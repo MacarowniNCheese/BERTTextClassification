{
 "cells": [
  {
   "cell_type": "markdown",
   "id": "3bf48802-03cd-43c1-8ac6-45fa6d41cf66",
   "metadata": {
    "tags": []
   },
   "source": [
    "# Preprocess data"
   ]
  },
  {
   "cell_type": "markdown",
   "id": "8bbfc647-c173-44d8-9a10-236786bd1df3",
   "metadata": {},
   "source": [
    "One might need to install further packages for the code to work. Here is an example of this (commented out so the cell is not actually run,  as the packages here are already correctly installed)"
   ]
  },
  {
   "cell_type": "code",
   "execution_count": null,
   "id": "08446554-af0a-44f7-a25f-85f6f6080e57",
   "metadata": {
    "tags": []
   },
   "outputs": [],
   "source": [
    "# !pip install transformers"
   ]
  },
  {
   "cell_type": "markdown",
   "id": "9a04d13d-97df-437f-9c0e-261f3fe34584",
   "metadata": {},
   "source": [
    "### Initialize parameters\n"
   ]
  },
  {
   "cell_type": "markdown",
   "id": "8e96ee13-ad7c-4ba4-bb2f-898149af9882",
   "metadata": {},
   "source": [
    "earlyStop is a parameter that allows the user to preprocess only a subset of the entire dataset i.e. only the earlyStop first data points"
   ]
  },
  {
   "cell_type": "code",
   "execution_count": 1,
   "id": "2e269e80-4aeb-4b2d-be0f-834a07bfb165",
   "metadata": {
    "tags": []
   },
   "outputs": [],
   "source": [
    "earlyStop = 20 \n",
    "batch_size = 32\n",
    "loading_preprocessed_data = False"
   ]
  },
  {
   "cell_type": "markdown",
   "id": "2489e99a-04f3-4926-93cc-02b106512ad6",
   "metadata": {},
   "source": [
    "### Load and open dataset"
   ]
  },
  {
   "cell_type": "markdown",
   "id": "579e0eec-2724-4448-8b60-a3cfe5a40baa",
   "metadata": {},
   "source": [
    "The following code loads the dataset and displays the first 5 elements. "
   ]
  },
  {
   "cell_type": "code",
   "execution_count": 2,
   "id": "cecc79ce-a5a3-4c54-aa8e-2e7e9c100f7d",
   "metadata": {
    "tags": []
   },
   "outputs": [
    {
     "name": "stderr",
     "output_type": "stream",
     "text": [
      "/home/lstebens/.conda/envs/bert_text_classification/lib/python3.9/site-packages/tqdm/auto.py:21: TqdmWarning: IProgress not found. Please update jupyter and ipywidgets. See https://ipywidgets.readthedocs.io/en/stable/user_install.html\n",
      "  from .autonotebook import tqdm as notebook_tqdm\n"
     ]
    },
    {
     "data": {
      "text/html": [
       "<div>\n",
       "<style scoped>\n",
       "    .dataframe tbody tr th:only-of-type {\n",
       "        vertical-align: middle;\n",
       "    }\n",
       "\n",
       "    .dataframe tbody tr th {\n",
       "        vertical-align: top;\n",
       "    }\n",
       "\n",
       "    .dataframe thead th {\n",
       "        text-align: right;\n",
       "    }\n",
       "</style>\n",
       "<table border=\"1\" class=\"dataframe\">\n",
       "  <thead>\n",
       "    <tr style=\"text-align: right;\">\n",
       "      <th></th>\n",
       "      <th>title</th>\n",
       "      <th>body</th>\n",
       "      <th>author</th>\n",
       "      <th>published</th>\n",
       "      <th>topics</th>\n",
       "    </tr>\n",
       "  </thead>\n",
       "  <tbody>\n",
       "    <tr>\n",
       "      <th>0</th>\n",
       "      <td>The New York Times Daily Crossword Puzzles: Th...</td>\n",
       "      <td>Monday’s Crosswords Do with EaseTuesday’s Cros...</td>\n",
       "      <td>New York Times</td>\n",
       "      <td>Dec 28, 1996</td>\n",
       "      <td>[Nonfiction, Games]</td>\n",
       "    </tr>\n",
       "    <tr>\n",
       "      <th>1</th>\n",
       "      <td>Creatures of the Night (Second Edition)</td>\n",
       "      <td>Two of literary comics modern masters present ...</td>\n",
       "      <td>Neil Gaiman</td>\n",
       "      <td>Nov 29, 2016</td>\n",
       "      <td>[Fiction, Graphic Novels &amp; Manga]</td>\n",
       "    </tr>\n",
       "    <tr>\n",
       "      <th>2</th>\n",
       "      <td>Cornelia and the Audacious Escapades of the So...</td>\n",
       "      <td>Eleven-year-old Cornelia is the daughter of tw...</td>\n",
       "      <td>Lesley M. M. Blume</td>\n",
       "      <td>Jan 08, 2008</td>\n",
       "      <td>[Children’s Books, Children’s Middle Grade Books]</td>\n",
       "    </tr>\n",
       "    <tr>\n",
       "      <th>3</th>\n",
       "      <td>The Alchemist's Daughter</td>\n",
       "      <td>During the English Age of Reason, a woman cloi...</td>\n",
       "      <td>Katharine McMahon</td>\n",
       "      <td>Oct 24, 2006</td>\n",
       "      <td>[Fiction, Historical Fiction]</td>\n",
       "    </tr>\n",
       "    <tr>\n",
       "      <th>4</th>\n",
       "      <td>Dangerous Boy</td>\n",
       "      <td>A modern-day retelling of The Strange Case of ...</td>\n",
       "      <td>Mandy Hubbard</td>\n",
       "      <td>Aug 30, 2012</td>\n",
       "      <td>[Teen &amp; Young Adult, Teen &amp; Young Adult Myster...</td>\n",
       "    </tr>\n",
       "  </tbody>\n",
       "</table>\n",
       "</div>"
      ],
      "text/plain": [
       "                                               title  \\\n",
       "0  The New York Times Daily Crossword Puzzles: Th...   \n",
       "1            Creatures of the Night (Second Edition)   \n",
       "2  Cornelia and the Audacious Escapades of the So...   \n",
       "3                           The Alchemist's Daughter   \n",
       "4                                      Dangerous Boy   \n",
       "\n",
       "                                                body              author  \\\n",
       "0  Monday’s Crosswords Do with EaseTuesday’s Cros...      New York Times   \n",
       "1  Two of literary comics modern masters present ...         Neil Gaiman   \n",
       "2  Eleven-year-old Cornelia is the daughter of tw...  Lesley M. M. Blume   \n",
       "3  During the English Age of Reason, a woman cloi...   Katharine McMahon   \n",
       "4  A modern-day retelling of The Strange Case of ...       Mandy Hubbard   \n",
       "\n",
       "       published                                             topics  \n",
       "0  Dec 28, 1996                                 [Nonfiction, Games]  \n",
       "1  Nov 29, 2016                   [Fiction, Graphic Novels & Manga]  \n",
       "2  Jan 08, 2008   [Children’s Books, Children’s Middle Grade Books]  \n",
       "3  Oct 24, 2006                       [Fiction, Historical Fiction]  \n",
       "4  Aug 30, 2012   [Teen & Young Adult, Teen & Young Adult Myster...  "
      ]
     },
     "metadata": {},
     "output_type": "display_data"
    }
   ],
   "source": [
    "from blurb_dataset.blurb_dataset import BlurbDataset\n",
    "if loading_preprocessed_data == False:\n",
    "    data = BlurbDataset(\n",
    "        #earlyStop=earlyStop, #commenting this out will result in no early stopping\n",
    "        batch_size=batch_size\n",
    "    )\n",
    "    display(data.trainDF.head())"
   ]
  },
  {
   "cell_type": "markdown",
   "id": "6bc0a6a0-0850-41ea-9279-092b40d2ba6c",
   "metadata": {},
   "source": [
    "This is the unprocessed data."
   ]
  },
  {
   "cell_type": "markdown",
   "id": "84c6767f-924d-42a9-904a-297f585c49fb",
   "metadata": {},
   "source": [
    "### Preprocess the dataset"
   ]
  },
  {
   "cell_type": "markdown",
   "id": "421b9d6a-49d6-4f5f-b245-cbf129b4d72d",
   "metadata": {},
   "source": [
    "Here we do the actual preporcessing. We take the parts of the data that are relevant for the text classification, preprocess the labels and then save the data. First let's preprocess the labels:"
   ]
  },
  {
   "cell_type": "code",
   "execution_count": 3,
   "id": "7d8bccba-f604-4791-8c1c-0881783abb9c",
   "metadata": {
    "tags": []
   },
   "outputs": [
    {
     "data": {
      "text/html": [
       "<div>\n",
       "<style scoped>\n",
       "    .dataframe tbody tr th:only-of-type {\n",
       "        vertical-align: middle;\n",
       "    }\n",
       "\n",
       "    .dataframe tbody tr th {\n",
       "        vertical-align: top;\n",
       "    }\n",
       "\n",
       "    .dataframe thead th {\n",
       "        text-align: right;\n",
       "    }\n",
       "</style>\n",
       "<table border=\"1\" class=\"dataframe\">\n",
       "  <thead>\n",
       "    <tr style=\"text-align: right;\">\n",
       "      <th></th>\n",
       "      <th>title</th>\n",
       "      <th>body</th>\n",
       "      <th>author</th>\n",
       "      <th>published</th>\n",
       "      <th>topics</th>\n",
       "      <th>labels</th>\n",
       "    </tr>\n",
       "  </thead>\n",
       "  <tbody>\n",
       "    <tr>\n",
       "      <th>0</th>\n",
       "      <td>The New York Times Daily Crossword Puzzles: Th...</td>\n",
       "      <td>Monday’s Crosswords Do with EaseTuesday’s Cros...</td>\n",
       "      <td>New York Times</td>\n",
       "      <td>Dec 28, 1996</td>\n",
       "      <td>[Nonfiction, Games]</td>\n",
       "      <td>[0, 0, -1, -1, -1, -1, -1, -1, -1, -1, -1]</td>\n",
       "    </tr>\n",
       "    <tr>\n",
       "      <th>1</th>\n",
       "      <td>Creatures of the Night (Second Edition)</td>\n",
       "      <td>Two of literary comics modern masters present ...</td>\n",
       "      <td>Neil Gaiman</td>\n",
       "      <td>Nov 29, 2016</td>\n",
       "      <td>[Fiction, Graphic Novels &amp; Manga]</td>\n",
       "      <td>[1, 1, -1, -1, -1, -1, -1, -1, -1, -1, -1]</td>\n",
       "    </tr>\n",
       "    <tr>\n",
       "      <th>2</th>\n",
       "      <td>Cornelia and the Audacious Escapades of the So...</td>\n",
       "      <td>Eleven-year-old Cornelia is the daughter of tw...</td>\n",
       "      <td>Lesley M. M. Blume</td>\n",
       "      <td>Jan 08, 2008</td>\n",
       "      <td>[Children’s Books, Children’s Middle Grade Books]</td>\n",
       "      <td>[2, 2, -1, -1, -1, -1, -1, -1, -1, -1, -1]</td>\n",
       "    </tr>\n",
       "    <tr>\n",
       "      <th>3</th>\n",
       "      <td>The Alchemist's Daughter</td>\n",
       "      <td>During the English Age of Reason, a woman cloi...</td>\n",
       "      <td>Katharine McMahon</td>\n",
       "      <td>Oct 24, 2006</td>\n",
       "      <td>[Fiction, Historical Fiction]</td>\n",
       "      <td>[1, 3, -1, -1, -1, -1, -1, -1, -1, -1, -1]</td>\n",
       "    </tr>\n",
       "    <tr>\n",
       "      <th>4</th>\n",
       "      <td>Dangerous Boy</td>\n",
       "      <td>A modern-day retelling of The Strange Case of ...</td>\n",
       "      <td>Mandy Hubbard</td>\n",
       "      <td>Aug 30, 2012</td>\n",
       "      <td>[Teen &amp; Young Adult, Teen &amp; Young Adult Myster...</td>\n",
       "      <td>[3, 4, 0, 0, -1, -1, -1, -1, -1, -1, -1]</td>\n",
       "    </tr>\n",
       "  </tbody>\n",
       "</table>\n",
       "</div>"
      ],
      "text/plain": [
       "                                               title  \\\n",
       "0  The New York Times Daily Crossword Puzzles: Th...   \n",
       "1            Creatures of the Night (Second Edition)   \n",
       "2  Cornelia and the Audacious Escapades of the So...   \n",
       "3                           The Alchemist's Daughter   \n",
       "4                                      Dangerous Boy   \n",
       "\n",
       "                                                body              author  \\\n",
       "0  Monday’s Crosswords Do with EaseTuesday’s Cros...      New York Times   \n",
       "1  Two of literary comics modern masters present ...         Neil Gaiman   \n",
       "2  Eleven-year-old Cornelia is the daughter of tw...  Lesley M. M. Blume   \n",
       "3  During the English Age of Reason, a woman cloi...   Katharine McMahon   \n",
       "4  A modern-day retelling of The Strange Case of ...       Mandy Hubbard   \n",
       "\n",
       "       published                                             topics  \\\n",
       "0  Dec 28, 1996                                 [Nonfiction, Games]   \n",
       "1  Nov 29, 2016                   [Fiction, Graphic Novels & Manga]   \n",
       "2  Jan 08, 2008   [Children’s Books, Children’s Middle Grade Books]   \n",
       "3  Oct 24, 2006                       [Fiction, Historical Fiction]   \n",
       "4  Aug 30, 2012   [Teen & Young Adult, Teen & Young Adult Myster...   \n",
       "\n",
       "                                       labels  \n",
       "0  [0, 0, -1, -1, -1, -1, -1, -1, -1, -1, -1]  \n",
       "1  [1, 1, -1, -1, -1, -1, -1, -1, -1, -1, -1]  \n",
       "2  [2, 2, -1, -1, -1, -1, -1, -1, -1, -1, -1]  \n",
       "3  [1, 3, -1, -1, -1, -1, -1, -1, -1, -1, -1]  \n",
       "4    [3, 4, 0, 0, -1, -1, -1, -1, -1, -1, -1]  "
      ]
     },
     "metadata": {},
     "output_type": "display_data"
    }
   ],
   "source": [
    "if loading_preprocessed_data == False:\n",
    "    data.preprocessLabels()\n",
    "    display(data.trainDF.head())"
   ]
  },
  {
   "cell_type": "markdown",
   "id": "8cea436c-b5ea-4aca-9d37-b98c8c3152fc",
   "metadata": {},
   "source": [
    "Next we need to tokenize the text input. Note that this will take a while if earlystopping is not implemented. "
   ]
  },
  {
   "cell_type": "code",
   "execution_count": 4,
   "id": "b31dc96a-f129-4526-bce0-caee8789719e",
   "metadata": {
    "tags": []
   },
   "outputs": [
    {
     "name": "stderr",
     "output_type": "stream",
     "text": [
      "Tokenization:   0%|          | 0/20 [00:00<?, ?it/s]\n",
      "Downloading (…)solve/main/vocab.txt: 100%|██████████| 232k/232k [00:00<00:00, 15.4MB/s]\n",
      "\n",
      "Downloading (…)okenizer_config.json: 100%|██████████| 28.0/28.0 [00:00<00:00, 13.7kB/s]\n",
      "\n",
      "Downloading (…)lve/main/config.json: 100%|██████████| 570/570 [00:00<00:00, 340kB/s]\n",
      "/home/lstebens/.conda/envs/bert_text_classification/lib/python3.9/site-packages/transformers/tokenization_utils_base.py:2377: FutureWarning: The `pad_to_max_length` argument is deprecated and will be removed in a future version, use `padding=True` or `padding='longest'` to pad to the longest sequence in the batch, or use `padding='max_length'` to pad to a max length. In this case, you can give a specific length with `max_length` (e.g. `max_length=45`) or leave max_length to None to pad to the maximal input size of the model (e.g. 512 for Bert).\n",
      "  warnings.warn(\n",
      "Tokenization: 100%|██████████| 20/20 [00:01<00:00, 16.73it/s]\n",
      "Tokenization:   0%|          | 0/10 [00:00<?, ?it/s]/home/lstebens/.conda/envs/bert_text_classification/lib/python3.9/site-packages/transformers/tokenization_utils_base.py:2377: FutureWarning: The `pad_to_max_length` argument is deprecated and will be removed in a future version, use `padding=True` or `padding='longest'` to pad to the longest sequence in the batch, or use `padding='max_length'` to pad to a max length. In this case, you can give a specific length with `max_length` (e.g. `max_length=45`) or leave max_length to None to pad to the maximal input size of the model (e.g. 512 for Bert).\n",
      "  warnings.warn(\n",
      "Tokenization: 100%|██████████| 10/10 [00:00<00:00, 59.07it/s]\n",
      "Tokenization:   0%|          | 0/10 [00:00<?, ?it/s]/home/lstebens/.conda/envs/bert_text_classification/lib/python3.9/site-packages/transformers/tokenization_utils_base.py:2377: FutureWarning: The `pad_to_max_length` argument is deprecated and will be removed in a future version, use `padding=True` or `padding='longest'` to pad to the longest sequence in the batch, or use `padding='max_length'` to pad to a max length. In this case, you can give a specific length with `max_length` (e.g. `max_length=45`) or leave max_length to None to pad to the maximal input size of the model (e.g. 512 for Bert).\n",
      "  warnings.warn(\n",
      "Tokenization: 100%|██████████| 10/10 [00:00<00:00, 57.83it/s]\n"
     ]
    },
    {
     "data": {
      "text/html": [
       "<div>\n",
       "<style scoped>\n",
       "    .dataframe tbody tr th:only-of-type {\n",
       "        vertical-align: middle;\n",
       "    }\n",
       "\n",
       "    .dataframe tbody tr th {\n",
       "        vertical-align: top;\n",
       "    }\n",
       "\n",
       "    .dataframe thead th {\n",
       "        text-align: right;\n",
       "    }\n",
       "</style>\n",
       "<table border=\"1\" class=\"dataframe\">\n",
       "  <thead>\n",
       "    <tr style=\"text-align: right;\">\n",
       "      <th></th>\n",
       "      <th>title</th>\n",
       "      <th>body</th>\n",
       "      <th>author</th>\n",
       "      <th>published</th>\n",
       "      <th>topics</th>\n",
       "      <th>labels</th>\n",
       "      <th>tokenizedTopics</th>\n",
       "      <th>attentionMask</th>\n",
       "    </tr>\n",
       "  </thead>\n",
       "  <tbody>\n",
       "    <tr>\n",
       "      <th>0</th>\n",
       "      <td>The New York Times Daily Crossword Puzzles: Th...</td>\n",
       "      <td>Monday’s Crosswords Do with EaseTuesday’s Cros...</td>\n",
       "      <td>New York Times</td>\n",
       "      <td>Dec 28, 1996</td>\n",
       "      <td>[Nonfiction, Games]</td>\n",
       "      <td>[0, 0, -1, -1, -1, -1, -1, -1, -1, -1, -1]</td>\n",
       "      <td>[101, 6928, 1521, 1055, 2892, 22104, 2079, 200...</td>\n",
       "      <td>[1, 1, 1, 1, 1, 1, 1, 1, 1, 1, 1, 1, 1, 1, 1, ...</td>\n",
       "    </tr>\n",
       "    <tr>\n",
       "      <th>1</th>\n",
       "      <td>Creatures of the Night (Second Edition)</td>\n",
       "      <td>Two of literary comics modern masters present ...</td>\n",
       "      <td>Neil Gaiman</td>\n",
       "      <td>Nov 29, 2016</td>\n",
       "      <td>[Fiction, Graphic Novels &amp; Manga]</td>\n",
       "      <td>[1, 1, -1, -1, -1, -1, -1, -1, -1, -1, -1]</td>\n",
       "      <td>[101, 2048, 1997, 4706, 5888, 2715, 5972, 2556...</td>\n",
       "      <td>[1, 1, 1, 1, 1, 1, 1, 1, 1, 1, 1, 1, 1, 1, 1, ...</td>\n",
       "    </tr>\n",
       "    <tr>\n",
       "      <th>2</th>\n",
       "      <td>Cornelia and the Audacious Escapades of the So...</td>\n",
       "      <td>Eleven-year-old Cornelia is the daughter of tw...</td>\n",
       "      <td>Lesley M. M. Blume</td>\n",
       "      <td>Jan 08, 2008</td>\n",
       "      <td>[Children’s Books, Children’s Middle Grade Books]</td>\n",
       "      <td>[2, 2, -1, -1, -1, -1, -1, -1, -1, -1, -1]</td>\n",
       "      <td>[101, 5408, 1011, 2095, 1011, 2214, 9781, 1390...</td>\n",
       "      <td>[1, 1, 1, 1, 1, 1, 1, 1, 1, 1, 1, 1, 1, 1, 1, ...</td>\n",
       "    </tr>\n",
       "    <tr>\n",
       "      <th>3</th>\n",
       "      <td>The Alchemist's Daughter</td>\n",
       "      <td>During the English Age of Reason, a woman cloi...</td>\n",
       "      <td>Katharine McMahon</td>\n",
       "      <td>Oct 24, 2006</td>\n",
       "      <td>[Fiction, Historical Fiction]</td>\n",
       "      <td>[1, 3, -1, -1, -1, -1, -1, -1, -1, -1, -1]</td>\n",
       "      <td>[101, 2076, 1996, 2394, 2287, 1997, 3114, 1010...</td>\n",
       "      <td>[1, 1, 1, 1, 1, 1, 1, 1, 1, 1, 1, 1, 1, 1, 1, ...</td>\n",
       "    </tr>\n",
       "    <tr>\n",
       "      <th>4</th>\n",
       "      <td>Dangerous Boy</td>\n",
       "      <td>A modern-day retelling of The Strange Case of ...</td>\n",
       "      <td>Mandy Hubbard</td>\n",
       "      <td>Aug 30, 2012</td>\n",
       "      <td>[Teen &amp; Young Adult, Teen &amp; Young Adult Myster...</td>\n",
       "      <td>[3, 4, 0, 0, -1, -1, -1, -1, -1, -1, -1]</td>\n",
       "      <td>[101, 1037, 2715, 1011, 2154, 2128, 23567, 207...</td>\n",
       "      <td>[1, 1, 1, 1, 1, 1, 1, 1, 1, 1, 1, 1, 1, 1, 1, ...</td>\n",
       "    </tr>\n",
       "  </tbody>\n",
       "</table>\n",
       "</div>"
      ],
      "text/plain": [
       "                                               title  \\\n",
       "0  The New York Times Daily Crossword Puzzles: Th...   \n",
       "1            Creatures of the Night (Second Edition)   \n",
       "2  Cornelia and the Audacious Escapades of the So...   \n",
       "3                           The Alchemist's Daughter   \n",
       "4                                      Dangerous Boy   \n",
       "\n",
       "                                                body              author  \\\n",
       "0  Monday’s Crosswords Do with EaseTuesday’s Cros...      New York Times   \n",
       "1  Two of literary comics modern masters present ...         Neil Gaiman   \n",
       "2  Eleven-year-old Cornelia is the daughter of tw...  Lesley M. M. Blume   \n",
       "3  During the English Age of Reason, a woman cloi...   Katharine McMahon   \n",
       "4  A modern-day retelling of The Strange Case of ...       Mandy Hubbard   \n",
       "\n",
       "       published                                             topics  \\\n",
       "0  Dec 28, 1996                                 [Nonfiction, Games]   \n",
       "1  Nov 29, 2016                   [Fiction, Graphic Novels & Manga]   \n",
       "2  Jan 08, 2008   [Children’s Books, Children’s Middle Grade Books]   \n",
       "3  Oct 24, 2006                       [Fiction, Historical Fiction]   \n",
       "4  Aug 30, 2012   [Teen & Young Adult, Teen & Young Adult Myster...   \n",
       "\n",
       "                                       labels  \\\n",
       "0  [0, 0, -1, -1, -1, -1, -1, -1, -1, -1, -1]   \n",
       "1  [1, 1, -1, -1, -1, -1, -1, -1, -1, -1, -1]   \n",
       "2  [2, 2, -1, -1, -1, -1, -1, -1, -1, -1, -1]   \n",
       "3  [1, 3, -1, -1, -1, -1, -1, -1, -1, -1, -1]   \n",
       "4    [3, 4, 0, 0, -1, -1, -1, -1, -1, -1, -1]   \n",
       "\n",
       "                                     tokenizedTopics  \\\n",
       "0  [101, 6928, 1521, 1055, 2892, 22104, 2079, 200...   \n",
       "1  [101, 2048, 1997, 4706, 5888, 2715, 5972, 2556...   \n",
       "2  [101, 5408, 1011, 2095, 1011, 2214, 9781, 1390...   \n",
       "3  [101, 2076, 1996, 2394, 2287, 1997, 3114, 1010...   \n",
       "4  [101, 1037, 2715, 1011, 2154, 2128, 23567, 207...   \n",
       "\n",
       "                                       attentionMask  \n",
       "0  [1, 1, 1, 1, 1, 1, 1, 1, 1, 1, 1, 1, 1, 1, 1, ...  \n",
       "1  [1, 1, 1, 1, 1, 1, 1, 1, 1, 1, 1, 1, 1, 1, 1, ...  \n",
       "2  [1, 1, 1, 1, 1, 1, 1, 1, 1, 1, 1, 1, 1, 1, 1, ...  \n",
       "3  [1, 1, 1, 1, 1, 1, 1, 1, 1, 1, 1, 1, 1, 1, 1, ...  \n",
       "4  [1, 1, 1, 1, 1, 1, 1, 1, 1, 1, 1, 1, 1, 1, 1, ...  "
      ]
     },
     "metadata": {},
     "output_type": "display_data"
    }
   ],
   "source": [
    "if loading_preprocessed_data == False:\n",
    "    data.tokenization()\n",
    "    display(data.trainDF.head())"
   ]
  },
  {
   "cell_type": "markdown",
   "id": "c424e1db-4588-4347-95d5-93c425afb2cc",
   "metadata": {},
   "source": [
    "Finally, we convert the pd.DataFrame into torch.utils.data.dataloder object. This object is more effecient when called during training."
   ]
  },
  {
   "cell_type": "code",
   "execution_count": 5,
   "id": "7737472b-c831-4dd1-a835-26dd66b80eb3",
   "metadata": {
    "tags": []
   },
   "outputs": [
    {
     "name": "stderr",
     "output_type": "stream",
     "text": [
      "/home/lstebens/work/BERTTextClassification/utils/utils.py:43: UserWarning: Creating a tensor from a list of numpy.ndarrays is extremely slow. Please consider converting the list to a single numpy.ndarray with numpy.array() before converting to a tensor. (Triggered internally at ../torch/csrc/utils/tensor_new.cpp:245.)\n",
      "  torch.tensor(df[\"labels\"][:nbrExamples])\n"
     ]
    },
    {
     "data": {
      "text/html": [
       "<div>\n",
       "<style scoped>\n",
       "    .dataframe tbody tr th:only-of-type {\n",
       "        vertical-align: middle;\n",
       "    }\n",
       "\n",
       "    .dataframe tbody tr th {\n",
       "        vertical-align: top;\n",
       "    }\n",
       "\n",
       "    .dataframe thead th {\n",
       "        text-align: right;\n",
       "    }\n",
       "</style>\n",
       "<table border=\"1\" class=\"dataframe\">\n",
       "  <thead>\n",
       "    <tr style=\"text-align: right;\">\n",
       "      <th></th>\n",
       "      <th>title</th>\n",
       "      <th>body</th>\n",
       "      <th>author</th>\n",
       "      <th>published</th>\n",
       "      <th>topics</th>\n",
       "      <th>labels</th>\n",
       "      <th>tokenizedTopics</th>\n",
       "      <th>attentionMask</th>\n",
       "    </tr>\n",
       "  </thead>\n",
       "  <tbody>\n",
       "    <tr>\n",
       "      <th>0</th>\n",
       "      <td>The New York Times Daily Crossword Puzzles: Th...</td>\n",
       "      <td>Monday’s Crosswords Do with EaseTuesday’s Cros...</td>\n",
       "      <td>New York Times</td>\n",
       "      <td>Dec 28, 1996</td>\n",
       "      <td>[Nonfiction, Games]</td>\n",
       "      <td>[0, 0, -1, -1, -1, -1, -1, -1, -1, -1, -1]</td>\n",
       "      <td>[101, 6928, 1521, 1055, 2892, 22104, 2079, 200...</td>\n",
       "      <td>[1, 1, 1, 1, 1, 1, 1, 1, 1, 1, 1, 1, 1, 1, 1, ...</td>\n",
       "    </tr>\n",
       "    <tr>\n",
       "      <th>1</th>\n",
       "      <td>Creatures of the Night (Second Edition)</td>\n",
       "      <td>Two of literary comics modern masters present ...</td>\n",
       "      <td>Neil Gaiman</td>\n",
       "      <td>Nov 29, 2016</td>\n",
       "      <td>[Fiction, Graphic Novels &amp; Manga]</td>\n",
       "      <td>[1, 1, -1, -1, -1, -1, -1, -1, -1, -1, -1]</td>\n",
       "      <td>[101, 2048, 1997, 4706, 5888, 2715, 5972, 2556...</td>\n",
       "      <td>[1, 1, 1, 1, 1, 1, 1, 1, 1, 1, 1, 1, 1, 1, 1, ...</td>\n",
       "    </tr>\n",
       "    <tr>\n",
       "      <th>2</th>\n",
       "      <td>Cornelia and the Audacious Escapades of the So...</td>\n",
       "      <td>Eleven-year-old Cornelia is the daughter of tw...</td>\n",
       "      <td>Lesley M. M. Blume</td>\n",
       "      <td>Jan 08, 2008</td>\n",
       "      <td>[Children’s Books, Children’s Middle Grade Books]</td>\n",
       "      <td>[2, 2, -1, -1, -1, -1, -1, -1, -1, -1, -1]</td>\n",
       "      <td>[101, 5408, 1011, 2095, 1011, 2214, 9781, 1390...</td>\n",
       "      <td>[1, 1, 1, 1, 1, 1, 1, 1, 1, 1, 1, 1, 1, 1, 1, ...</td>\n",
       "    </tr>\n",
       "    <tr>\n",
       "      <th>3</th>\n",
       "      <td>The Alchemist's Daughter</td>\n",
       "      <td>During the English Age of Reason, a woman cloi...</td>\n",
       "      <td>Katharine McMahon</td>\n",
       "      <td>Oct 24, 2006</td>\n",
       "      <td>[Fiction, Historical Fiction]</td>\n",
       "      <td>[1, 3, -1, -1, -1, -1, -1, -1, -1, -1, -1]</td>\n",
       "      <td>[101, 2076, 1996, 2394, 2287, 1997, 3114, 1010...</td>\n",
       "      <td>[1, 1, 1, 1, 1, 1, 1, 1, 1, 1, 1, 1, 1, 1, 1, ...</td>\n",
       "    </tr>\n",
       "    <tr>\n",
       "      <th>4</th>\n",
       "      <td>Dangerous Boy</td>\n",
       "      <td>A modern-day retelling of The Strange Case of ...</td>\n",
       "      <td>Mandy Hubbard</td>\n",
       "      <td>Aug 30, 2012</td>\n",
       "      <td>[Teen &amp; Young Adult, Teen &amp; Young Adult Myster...</td>\n",
       "      <td>[3, 4, 0, 0, -1, -1, -1, -1, -1, -1, -1]</td>\n",
       "      <td>[101, 1037, 2715, 1011, 2154, 2128, 23567, 207...</td>\n",
       "      <td>[1, 1, 1, 1, 1, 1, 1, 1, 1, 1, 1, 1, 1, 1, 1, ...</td>\n",
       "    </tr>\n",
       "  </tbody>\n",
       "</table>\n",
       "</div>"
      ],
      "text/plain": [
       "                                               title  \\\n",
       "0  The New York Times Daily Crossword Puzzles: Th...   \n",
       "1            Creatures of the Night (Second Edition)   \n",
       "2  Cornelia and the Audacious Escapades of the So...   \n",
       "3                           The Alchemist's Daughter   \n",
       "4                                      Dangerous Boy   \n",
       "\n",
       "                                                body              author  \\\n",
       "0  Monday’s Crosswords Do with EaseTuesday’s Cros...      New York Times   \n",
       "1  Two of literary comics modern masters present ...         Neil Gaiman   \n",
       "2  Eleven-year-old Cornelia is the daughter of tw...  Lesley M. M. Blume   \n",
       "3  During the English Age of Reason, a woman cloi...   Katharine McMahon   \n",
       "4  A modern-day retelling of The Strange Case of ...       Mandy Hubbard   \n",
       "\n",
       "       published                                             topics  \\\n",
       "0  Dec 28, 1996                                 [Nonfiction, Games]   \n",
       "1  Nov 29, 2016                   [Fiction, Graphic Novels & Manga]   \n",
       "2  Jan 08, 2008   [Children’s Books, Children’s Middle Grade Books]   \n",
       "3  Oct 24, 2006                       [Fiction, Historical Fiction]   \n",
       "4  Aug 30, 2012   [Teen & Young Adult, Teen & Young Adult Myster...   \n",
       "\n",
       "                                       labels  \\\n",
       "0  [0, 0, -1, -1, -1, -1, -1, -1, -1, -1, -1]   \n",
       "1  [1, 1, -1, -1, -1, -1, -1, -1, -1, -1, -1]   \n",
       "2  [2, 2, -1, -1, -1, -1, -1, -1, -1, -1, -1]   \n",
       "3  [1, 3, -1, -1, -1, -1, -1, -1, -1, -1, -1]   \n",
       "4    [3, 4, 0, 0, -1, -1, -1, -1, -1, -1, -1]   \n",
       "\n",
       "                                     tokenizedTopics  \\\n",
       "0  [101, 6928, 1521, 1055, 2892, 22104, 2079, 200...   \n",
       "1  [101, 2048, 1997, 4706, 5888, 2715, 5972, 2556...   \n",
       "2  [101, 5408, 1011, 2095, 1011, 2214, 9781, 1390...   \n",
       "3  [101, 2076, 1996, 2394, 2287, 1997, 3114, 1010...   \n",
       "4  [101, 1037, 2715, 1011, 2154, 2128, 23567, 207...   \n",
       "\n",
       "                                       attentionMask  \n",
       "0  [1, 1, 1, 1, 1, 1, 1, 1, 1, 1, 1, 1, 1, 1, 1, ...  \n",
       "1  [1, 1, 1, 1, 1, 1, 1, 1, 1, 1, 1, 1, 1, 1, 1, ...  \n",
       "2  [1, 1, 1, 1, 1, 1, 1, 1, 1, 1, 1, 1, 1, 1, 1, ...  \n",
       "3  [1, 1, 1, 1, 1, 1, 1, 1, 1, 1, 1, 1, 1, 1, 1, ...  \n",
       "4  [1, 1, 1, 1, 1, 1, 1, 1, 1, 1, 1, 1, 1, 1, 1, ...  "
      ]
     },
     "metadata": {},
     "output_type": "display_data"
    }
   ],
   "source": [
    "if loading_preprocessed_data == False:\n",
    "    data.convertToDataloader()\n",
    "    display(data.trainDF.head())\n",
    "    data.isPreprocessed = True"
   ]
  },
  {
   "cell_type": "markdown",
   "id": "ee8aa8f8-e9e2-478b-842f-645e8d402c86",
   "metadata": {},
   "source": [
    "To do all of the steps before in one step, simply call the following function:"
   ]
  },
  {
   "cell_type": "code",
   "execution_count": 3,
   "id": "7735b43e-7a64-4937-8fef-3433a06943f6",
   "metadata": {
    "tags": []
   },
   "outputs": [
    {
     "name": "stderr",
     "output_type": "stream",
     "text": [
      "Tokenization:   0%|          | 0/58715 [00:00<?, ?it/s]/home/lstebens/.conda/envs/bert_text_classification/lib/python3.9/site-packages/transformers/tokenization_utils_base.py:2377: FutureWarning: The `pad_to_max_length` argument is deprecated and will be removed in a future version, use `padding=True` or `padding='longest'` to pad to the longest sequence in the batch, or use `padding='max_length'` to pad to a max length. In this case, you can give a specific length with `max_length` (e.g. `max_length=45`) or leave max_length to None to pad to the maximal input size of the model (e.g. 512 for Bert).\n",
      "  warnings.warn(\n",
      "Tokenization: 100%|██████████| 58715/58715 [03:30<00:00, 279.20it/s]\n",
      "Tokenization:   0%|          | 0/7392 [00:00<?, ?it/s]/home/lstebens/.conda/envs/bert_text_classification/lib/python3.9/site-packages/transformers/tokenization_utils_base.py:2377: FutureWarning: The `pad_to_max_length` argument is deprecated and will be removed in a future version, use `padding=True` or `padding='longest'` to pad to the longest sequence in the batch, or use `padding='max_length'` to pad to a max length. In this case, you can give a specific length with `max_length` (e.g. `max_length=45`) or leave max_length to None to pad to the maximal input size of the model (e.g. 512 for Bert).\n",
      "  warnings.warn(\n",
      "Tokenization: 100%|██████████| 7392/7392 [00:25<00:00, 285.95it/s]\n",
      "Tokenization:   0%|          | 0/9197 [00:00<?, ?it/s]/home/lstebens/.conda/envs/bert_text_classification/lib/python3.9/site-packages/transformers/tokenization_utils_base.py:2377: FutureWarning: The `pad_to_max_length` argument is deprecated and will be removed in a future version, use `padding=True` or `padding='longest'` to pad to the longest sequence in the batch, or use `padding='max_length'` to pad to a max length. In this case, you can give a specific length with `max_length` (e.g. `max_length=45`) or leave max_length to None to pad to the maximal input size of the model (e.g. 512 for Bert).\n",
      "  warnings.warn(\n",
      "Tokenization: 100%|██████████| 9197/9197 [00:32<00:00, 283.68it/s]\n",
      "/home/lstebens/work/BERTTextClassification/utils/utils.py:43: UserWarning: Creating a tensor from a list of numpy.ndarrays is extremely slow. Please consider converting the list to a single numpy.ndarray with numpy.array() before converting to a tensor. (Triggered internally at ../torch/csrc/utils/tensor_new.cpp:245.)\n",
      "  torch.tensor(df[\"labels\"][:nbrExamples])\n"
     ]
    },
    {
     "data": {
      "text/html": [
       "<div>\n",
       "<style scoped>\n",
       "    .dataframe tbody tr th:only-of-type {\n",
       "        vertical-align: middle;\n",
       "    }\n",
       "\n",
       "    .dataframe tbody tr th {\n",
       "        vertical-align: top;\n",
       "    }\n",
       "\n",
       "    .dataframe thead th {\n",
       "        text-align: right;\n",
       "    }\n",
       "</style>\n",
       "<table border=\"1\" class=\"dataframe\">\n",
       "  <thead>\n",
       "    <tr style=\"text-align: right;\">\n",
       "      <th></th>\n",
       "      <th>title</th>\n",
       "      <th>body</th>\n",
       "      <th>author</th>\n",
       "      <th>published</th>\n",
       "      <th>topics</th>\n",
       "      <th>labels</th>\n",
       "      <th>tokenizedTopics</th>\n",
       "      <th>attentionMask</th>\n",
       "    </tr>\n",
       "  </thead>\n",
       "  <tbody>\n",
       "    <tr>\n",
       "      <th>0</th>\n",
       "      <td>The New York Times Daily Crossword Puzzles: Th...</td>\n",
       "      <td>Monday’s Crosswords Do with EaseTuesday’s Cros...</td>\n",
       "      <td>New York Times</td>\n",
       "      <td>Dec 28, 1996</td>\n",
       "      <td>[Nonfiction, Games]</td>\n",
       "      <td>[0, 0, -1, -1, -1, -1, -1, -1, -1, -1, -1]</td>\n",
       "      <td>[101, 6928, 1521, 1055, 2892, 22104, 2079, 200...</td>\n",
       "      <td>[1, 1, 1, 1, 1, 1, 1, 1, 1, 1, 1, 1, 1, 1, 1, ...</td>\n",
       "    </tr>\n",
       "    <tr>\n",
       "      <th>1</th>\n",
       "      <td>Creatures of the Night (Second Edition)</td>\n",
       "      <td>Two of literary comics modern masters present ...</td>\n",
       "      <td>Neil Gaiman</td>\n",
       "      <td>Nov 29, 2016</td>\n",
       "      <td>[Fiction, Graphic Novels &amp; Manga]</td>\n",
       "      <td>[1, 1, -1, -1, -1, -1, -1, -1, -1, -1, -1]</td>\n",
       "      <td>[101, 2048, 1997, 4706, 5888, 2715, 5972, 2556...</td>\n",
       "      <td>[1, 1, 1, 1, 1, 1, 1, 1, 1, 1, 1, 1, 1, 1, 1, ...</td>\n",
       "    </tr>\n",
       "    <tr>\n",
       "      <th>2</th>\n",
       "      <td>Cornelia and the Audacious Escapades of the So...</td>\n",
       "      <td>Eleven-year-old Cornelia is the daughter of tw...</td>\n",
       "      <td>Lesley M. M. Blume</td>\n",
       "      <td>Jan 08, 2008</td>\n",
       "      <td>[Children’s Books, Children’s Middle Grade Books]</td>\n",
       "      <td>[2, 2, -1, -1, -1, -1, -1, -1, -1, -1, -1]</td>\n",
       "      <td>[101, 5408, 1011, 2095, 1011, 2214, 9781, 1390...</td>\n",
       "      <td>[1, 1, 1, 1, 1, 1, 1, 1, 1, 1, 1, 1, 1, 1, 1, ...</td>\n",
       "    </tr>\n",
       "    <tr>\n",
       "      <th>3</th>\n",
       "      <td>The Alchemist's Daughter</td>\n",
       "      <td>During the English Age of Reason, a woman cloi...</td>\n",
       "      <td>Katharine McMahon</td>\n",
       "      <td>Oct 24, 2006</td>\n",
       "      <td>[Fiction, Historical Fiction]</td>\n",
       "      <td>[1, 3, -1, -1, -1, -1, -1, -1, -1, -1, -1]</td>\n",
       "      <td>[101, 2076, 1996, 2394, 2287, 1997, 3114, 1010...</td>\n",
       "      <td>[1, 1, 1, 1, 1, 1, 1, 1, 1, 1, 1, 1, 1, 1, 1, ...</td>\n",
       "    </tr>\n",
       "    <tr>\n",
       "      <th>4</th>\n",
       "      <td>Dangerous Boy</td>\n",
       "      <td>A modern-day retelling of The Strange Case of ...</td>\n",
       "      <td>Mandy Hubbard</td>\n",
       "      <td>Aug 30, 2012</td>\n",
       "      <td>[Teen &amp; Young Adult, Teen &amp; Young Adult Myster...</td>\n",
       "      <td>[3, 4, 0, 0, -1, -1, -1, -1, -1, -1, -1]</td>\n",
       "      <td>[101, 1037, 2715, 1011, 2154, 2128, 23567, 207...</td>\n",
       "      <td>[1, 1, 1, 1, 1, 1, 1, 1, 1, 1, 1, 1, 1, 1, 1, ...</td>\n",
       "    </tr>\n",
       "  </tbody>\n",
       "</table>\n",
       "</div>"
      ],
      "text/plain": [
       "                                               title  \\\n",
       "0  The New York Times Daily Crossword Puzzles: Th...   \n",
       "1            Creatures of the Night (Second Edition)   \n",
       "2  Cornelia and the Audacious Escapades of the So...   \n",
       "3                           The Alchemist's Daughter   \n",
       "4                                      Dangerous Boy   \n",
       "\n",
       "                                                body              author  \\\n",
       "0  Monday’s Crosswords Do with EaseTuesday’s Cros...      New York Times   \n",
       "1  Two of literary comics modern masters present ...         Neil Gaiman   \n",
       "2  Eleven-year-old Cornelia is the daughter of tw...  Lesley M. M. Blume   \n",
       "3  During the English Age of Reason, a woman cloi...   Katharine McMahon   \n",
       "4  A modern-day retelling of The Strange Case of ...       Mandy Hubbard   \n",
       "\n",
       "       published                                             topics  \\\n",
       "0  Dec 28, 1996                                 [Nonfiction, Games]   \n",
       "1  Nov 29, 2016                   [Fiction, Graphic Novels & Manga]   \n",
       "2  Jan 08, 2008   [Children’s Books, Children’s Middle Grade Books]   \n",
       "3  Oct 24, 2006                       [Fiction, Historical Fiction]   \n",
       "4  Aug 30, 2012   [Teen & Young Adult, Teen & Young Adult Myster...   \n",
       "\n",
       "                                       labels  \\\n",
       "0  [0, 0, -1, -1, -1, -1, -1, -1, -1, -1, -1]   \n",
       "1  [1, 1, -1, -1, -1, -1, -1, -1, -1, -1, -1]   \n",
       "2  [2, 2, -1, -1, -1, -1, -1, -1, -1, -1, -1]   \n",
       "3  [1, 3, -1, -1, -1, -1, -1, -1, -1, -1, -1]   \n",
       "4    [3, 4, 0, 0, -1, -1, -1, -1, -1, -1, -1]   \n",
       "\n",
       "                                     tokenizedTopics  \\\n",
       "0  [101, 6928, 1521, 1055, 2892, 22104, 2079, 200...   \n",
       "1  [101, 2048, 1997, 4706, 5888, 2715, 5972, 2556...   \n",
       "2  [101, 5408, 1011, 2095, 1011, 2214, 9781, 1390...   \n",
       "3  [101, 2076, 1996, 2394, 2287, 1997, 3114, 1010...   \n",
       "4  [101, 1037, 2715, 1011, 2154, 2128, 23567, 207...   \n",
       "\n",
       "                                       attentionMask  \n",
       "0  [1, 1, 1, 1, 1, 1, 1, 1, 1, 1, 1, 1, 1, 1, 1, ...  \n",
       "1  [1, 1, 1, 1, 1, 1, 1, 1, 1, 1, 1, 1, 1, 1, 1, ...  \n",
       "2  [1, 1, 1, 1, 1, 1, 1, 1, 1, 1, 1, 1, 1, 1, 1, ...  \n",
       "3  [1, 1, 1, 1, 1, 1, 1, 1, 1, 1, 1, 1, 1, 1, 1, ...  \n",
       "4  [1, 1, 1, 1, 1, 1, 1, 1, 1, 1, 1, 1, 1, 1, 1, ...  "
      ]
     },
     "metadata": {},
     "output_type": "display_data"
    }
   ],
   "source": [
    "if (loading_preprocessed_data == False) and (data.isPreprocessed == False): # Only run this cell if the other cells have not been run\n",
    "    data.prepareData()\n",
    "    display(data.trainDF.head())"
   ]
  },
  {
   "cell_type": "markdown",
   "id": "2e2e5acf-5b41-431f-b29c-b0e4f7fadfed",
   "metadata": {
    "tags": []
   },
   "source": [
    "### Saving and loading preprocessed data"
   ]
  },
  {
   "cell_type": "markdown",
   "id": "9778dd55-35fc-4c51-8f76-cb41be937353",
   "metadata": {},
   "source": [
    "Instead of doing the preprocessing every time the pipeline is executed, we can simply save and load the preprocessed data. To save:"
   ]
  },
  {
   "cell_type": "code",
   "execution_count": 5,
   "id": "180525d1-a28d-4f5f-b207-068069801e97",
   "metadata": {
    "tags": []
   },
   "outputs": [],
   "source": [
    "if loading_preprocessed_data == False:\n",
    "    data.saveData()"
   ]
  },
  {
   "cell_type": "markdown",
   "id": "6505a1f5-cce9-465c-b51a-515821d2454e",
   "metadata": {},
   "source": [
    "Notice that this will only save the earlyStop first elements of the data, as these are the only ones that have actually been preprocessed. The name of the saved file reflects this. There can always be just one saved file for a given value of earlyStop, if the preprocessing is repeated for a value of earlyStop than the saved file is overwritten.  "
   ]
  },
  {
   "cell_type": "markdown",
   "id": "cd2bf5b5-1320-4517-a84c-be2133d193ea",
   "metadata": {},
   "source": [
    "Loading the data will then simply involve the following step:"
   ]
  },
  {
   "cell_type": "code",
   "execution_count": 7,
   "id": "25d786e0-0bf3-447e-bcbf-6a81c327895a",
   "metadata": {
    "tags": []
   },
   "outputs": [],
   "source": [
    "if loading_preprocessed_data == True: # Need to load a new data object here which will automatically load the saved data\n",
    "    data = BlurbDataset(earlyStop=earlyStop, batch_size=batch_size, tokenizedDataPath=\"blurb_dataset\")"
   ]
  },
  {
   "cell_type": "markdown",
   "id": "3581a17e-dfca-4a6f-b7f6-47245aa7c727",
   "metadata": {},
   "source": [
    "### Save the dataloader in to MinIO"
   ]
  },
  {
   "cell_type": "code",
   "execution_count": 6,
   "id": "b8618ca0-cf13-4de1-bd17-74fb2e3b23af",
   "metadata": {
    "tags": []
   },
   "outputs": [],
   "source": [
    "import boto3\n",
    "import os\n",
    "AWS_ACCESS_KEY_ID = \"KCSHSRMJAUGINEW97PRT\"\n",
    "AWS_SECRET_ACCESS_KEY = \"JHr+Diuzk7gain4oXqz2Pbl4YuKw6mZmac3EwtlV\"\n",
    "\n",
    "def generateFileNames():\n",
    "    \"\"\" \n",
    "    Generates the file names of the files to be uploaded\n",
    "    \"\"\"\n",
    "    PATH = \"blurb_dataset\" \n",
    "    appendix = \"\"\n",
    "    if earlyStop != 1e50:\n",
    "        appendix = f\"EarlyStop{earlyStop}\"\n",
    "        \n",
    "    pathNames = []\n",
    "    pathNames.append(os.path.join(PATH, f\"preprocessedTrainBLURBDataset{appendix}.pt\"))\n",
    "    pathNames.append(os.path.join(PATH, f\"preprocessedTestBLURBDataset{appendix}.pt\"))\n",
    "    pathNames.append(os.path.join(PATH, f\"preprocessedValBLURBDataset{appendix}.pt\"))\n",
    "    pathNames.append(os.path.join(PATH, \"listLabelDict.json\"))\n",
    "    return pathNames\n",
    "\n",
    "s3 = boto3.resource('s3',\n",
    "    endpoint_url='http://10.240.5.123:9099',\n",
    "    aws_access_key_id=AWS_ACCESS_KEY_ID,\n",
    "    aws_secret_access_key=AWS_SECRET_ACCESS_KEY,\n",
    "    aws_session_token=None,\n",
    "    config=boto3.session.Config(signature_version='s3v4'),\n",
    "    verify=False\n",
    ")\n",
    "\n",
    "bucket_name = \"idoml\" # define your bucket name\n",
    "fileNames = generateFileNames() # define your model file name. THIS NEEDS TO BE CODED PROPERLY! COULD ALSO BE ADDED TO THE CLASS DIRECTLY\n",
    "minio_path = \"trainBERT-v1.0.0/preprocessed_data/\"\n",
    "\n",
    "for fileName in fileNames:\n",
    "    s3.Bucket(bucket_name).upload_file(fileName, minio_path + fileName)"
   ]
  },
  {
   "cell_type": "code",
   "execution_count": null,
   "id": "b3fd40d4-04da-4cbb-bfc1-202a55fbcc23",
   "metadata": {},
   "outputs": [],
   "source": []
  }
 ],
 "metadata": {
  "kernelspec": {
   "display_name": "Python 3 (ipykernel)",
   "language": "python",
   "name": "python3"
  },
  "language_info": {
   "codemirror_mode": {
    "name": "ipython",
    "version": 3
   },
   "file_extension": ".py",
   "mimetype": "text/x-python",
   "name": "python",
   "nbconvert_exporter": "python",
   "pygments_lexer": "ipython3",
   "version": "3.10.10"
  }
 },
 "nbformat": 4,
 "nbformat_minor": 5
}
