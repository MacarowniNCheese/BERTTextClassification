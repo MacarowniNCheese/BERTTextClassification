{
 "cells": [
  {
   "attachments": {},
   "cell_type": "markdown",
   "metadata": {},
   "source": [
    "# How-To Notebook"
   ]
  },
  {
   "attachments": {},
   "cell_type": "markdown",
   "metadata": {},
   "source": [
    "This notebook shows how to use the repository."
   ]
  },
  {
   "attachments": {},
   "cell_type": "markdown",
   "metadata": {},
   "source": [
    "### Initialize parameters"
   ]
  },
  {
   "attachments": {},
   "cell_type": "markdown",
   "metadata": {},
   "source": [
    "The line of code below contains all of the relevant parameters:"
   ]
  },
  {
   "cell_type": "code",
   "execution_count": 5,
   "metadata": {},
   "outputs": [],
   "source": [
    "earlyStop = 20\n",
    "batch_size = 8\n",
    "epochs = 1\n",
    "hierarchyLevel = 0"
   ]
  },
  {
   "attachments": {},
   "cell_type": "markdown",
   "metadata": {},
   "source": [
    "### How to open dataset"
   ]
  },
  {
   "attachments": {},
   "cell_type": "markdown",
   "metadata": {},
   "source": [
    "Datasets are opened with the corresponding class. The class has all the necessary preprocessing steps built-in. The main output of the data class are the dataloaders. These can be passed to the BSC model later for training, validation and testing. Below the difference between the pandas dataframes shows the data preprocessing in action."
   ]
  },
  {
   "cell_type": "code",
   "execution_count": 6,
   "metadata": {},
   "outputs": [
    {
     "data": {
      "text/html": [
       "<div>\n",
       "<style scoped>\n",
       "    .dataframe tbody tr th:only-of-type {\n",
       "        vertical-align: middle;\n",
       "    }\n",
       "\n",
       "    .dataframe tbody tr th {\n",
       "        vertical-align: top;\n",
       "    }\n",
       "\n",
       "    .dataframe thead th {\n",
       "        text-align: right;\n",
       "    }\n",
       "</style>\n",
       "<table border=\"1\" class=\"dataframe\">\n",
       "  <thead>\n",
       "    <tr style=\"text-align: right;\">\n",
       "      <th></th>\n",
       "      <th>title</th>\n",
       "      <th>body</th>\n",
       "      <th>author</th>\n",
       "      <th>published</th>\n",
       "      <th>topics</th>\n",
       "    </tr>\n",
       "  </thead>\n",
       "  <tbody>\n",
       "    <tr>\n",
       "      <th>0</th>\n",
       "      <td>The New York Times Daily Crossword Puzzles: Th...</td>\n",
       "      <td>Monday’s Crosswords Do with EaseTuesday’s Cros...</td>\n",
       "      <td>New York Times</td>\n",
       "      <td>Dec 28, 1996</td>\n",
       "      <td>[Nonfiction, Games]</td>\n",
       "    </tr>\n",
       "    <tr>\n",
       "      <th>1</th>\n",
       "      <td>Creatures of the Night (Second Edition)</td>\n",
       "      <td>Two of literary comics modern masters present ...</td>\n",
       "      <td>Neil Gaiman</td>\n",
       "      <td>Nov 29, 2016</td>\n",
       "      <td>[Fiction, Graphic Novels &amp; Manga]</td>\n",
       "    </tr>\n",
       "    <tr>\n",
       "      <th>2</th>\n",
       "      <td>Cornelia and the Audacious Escapades of the So...</td>\n",
       "      <td>Eleven-year-old Cornelia is the daughter of tw...</td>\n",
       "      <td>Lesley M. M. Blume</td>\n",
       "      <td>Jan 08, 2008</td>\n",
       "      <td>[Children’s Books, Children’s Middle Grade Books]</td>\n",
       "    </tr>\n",
       "    <tr>\n",
       "      <th>3</th>\n",
       "      <td>The Alchemist's Daughter</td>\n",
       "      <td>During the English Age of Reason, a woman cloi...</td>\n",
       "      <td>Katharine McMahon</td>\n",
       "      <td>Oct 24, 2006</td>\n",
       "      <td>[Fiction, Historical Fiction]</td>\n",
       "    </tr>\n",
       "    <tr>\n",
       "      <th>4</th>\n",
       "      <td>Dangerous Boy</td>\n",
       "      <td>A modern-day retelling of The Strange Case of ...</td>\n",
       "      <td>Mandy Hubbard</td>\n",
       "      <td>Aug 30, 2012</td>\n",
       "      <td>[Teen &amp; Young Adult, Teen &amp; Young Adult Myster...</td>\n",
       "    </tr>\n",
       "  </tbody>\n",
       "</table>\n",
       "</div>"
      ],
      "text/plain": [
       "                                               title  \\\n",
       "0  The New York Times Daily Crossword Puzzles: Th...   \n",
       "1            Creatures of the Night (Second Edition)   \n",
       "2  Cornelia and the Audacious Escapades of the So...   \n",
       "3                           The Alchemist's Daughter   \n",
       "4                                      Dangerous Boy   \n",
       "\n",
       "                                                body              author  \\\n",
       "0  Monday’s Crosswords Do with EaseTuesday’s Cros...      New York Times   \n",
       "1  Two of literary comics modern masters present ...         Neil Gaiman   \n",
       "2  Eleven-year-old Cornelia is the daughter of tw...  Lesley M. M. Blume   \n",
       "3  During the English Age of Reason, a woman cloi...   Katharine McMahon   \n",
       "4  A modern-day retelling of The Strange Case of ...       Mandy Hubbard   \n",
       "\n",
       "       published                                             topics  \n",
       "0  Dec 28, 1996                                 [Nonfiction, Games]  \n",
       "1  Nov 29, 2016                   [Fiction, Graphic Novels & Manga]  \n",
       "2  Jan 08, 2008   [Children’s Books, Children’s Middle Grade Books]  \n",
       "3  Oct 24, 2006                       [Fiction, Historical Fiction]  \n",
       "4  Aug 30, 2012   [Teen & Young Adult, Teen & Young Adult Myster...  "
      ]
     },
     "metadata": {},
     "output_type": "display_data"
    },
    {
     "name": "stderr",
     "output_type": "stream",
     "text": [
      "Tokenization:   0%|          | 0/20 [00:00<?, ?it/s]c:\\Users\\luc.stebens\\Anaconda3\\envs\\BERTTextClassification\\lib\\site-packages\\transformers\\tokenization_utils_base.py:2364: FutureWarning: The `pad_to_max_length` argument is deprecated and will be removed in a future version, use `padding=True` or `padding='longest'` to pad to the longest sequence in the batch, or use `padding='max_length'` to pad to a max length. In this case, you can give a specific length with `max_length` (e.g. `max_length=45`) or leave max_length to None to pad to the maximal input size of the model (e.g. 512 for Bert).\n",
      "  warnings.warn(\n",
      "Tokenization: 100%|██████████| 20/20 [00:08<00:00,  2.42it/s]\n",
      "Tokenization:   0%|          | 0/10 [00:00<?, ?it/s]c:\\Users\\luc.stebens\\Anaconda3\\envs\\BERTTextClassification\\lib\\site-packages\\transformers\\tokenization_utils_base.py:2364: FutureWarning: The `pad_to_max_length` argument is deprecated and will be removed in a future version, use `padding=True` or `padding='longest'` to pad to the longest sequence in the batch, or use `padding='max_length'` to pad to a max length. In this case, you can give a specific length with `max_length` (e.g. `max_length=45`) or leave max_length to None to pad to the maximal input size of the model (e.g. 512 for Bert).\n",
      "  warnings.warn(\n",
      "Tokenization: 100%|██████████| 10/10 [00:04<00:00,  2.32it/s]\n",
      "Tokenization:   0%|          | 0/10 [00:00<?, ?it/s]c:\\Users\\luc.stebens\\Anaconda3\\envs\\BERTTextClassification\\lib\\site-packages\\transformers\\tokenization_utils_base.py:2364: FutureWarning: The `pad_to_max_length` argument is deprecated and will be removed in a future version, use `padding=True` or `padding='longest'` to pad to the longest sequence in the batch, or use `padding='max_length'` to pad to a max length. In this case, you can give a specific length with `max_length` (e.g. `max_length=45`) or leave max_length to None to pad to the maximal input size of the model (e.g. 512 for Bert).\n",
      "  warnings.warn(\n",
      "Tokenization: 100%|██████████| 10/10 [00:02<00:00,  4.50it/s]\n",
      "c:\\Code\\BertSentenceClassification\\utils\\utils.py:43: UserWarning: Creating a tensor from a list of numpy.ndarrays is extremely slow. Please consider converting the list to a single numpy.ndarray with numpy.array() before converting to a tensor. (Triggered internally at C:\\actions-runner\\_work\\pytorch\\pytorch\\builder\\windows\\pytorch\\torch\\csrc\\utils\\tensor_new.cpp:248.)\n",
      "  torch.tensor(df[\"labels\"][:nbrExamples])\n"
     ]
    },
    {
     "data": {
      "text/html": [
       "<div>\n",
       "<style scoped>\n",
       "    .dataframe tbody tr th:only-of-type {\n",
       "        vertical-align: middle;\n",
       "    }\n",
       "\n",
       "    .dataframe tbody tr th {\n",
       "        vertical-align: top;\n",
       "    }\n",
       "\n",
       "    .dataframe thead th {\n",
       "        text-align: right;\n",
       "    }\n",
       "</style>\n",
       "<table border=\"1\" class=\"dataframe\">\n",
       "  <thead>\n",
       "    <tr style=\"text-align: right;\">\n",
       "      <th></th>\n",
       "      <th>title</th>\n",
       "      <th>body</th>\n",
       "      <th>author</th>\n",
       "      <th>published</th>\n",
       "      <th>topics</th>\n",
       "      <th>labels</th>\n",
       "      <th>tokenizedTopics</th>\n",
       "      <th>attentionMask</th>\n",
       "    </tr>\n",
       "  </thead>\n",
       "  <tbody>\n",
       "    <tr>\n",
       "      <th>0</th>\n",
       "      <td>The New York Times Daily Crossword Puzzles: Th...</td>\n",
       "      <td>Monday’s Crosswords Do with EaseTuesday’s Cros...</td>\n",
       "      <td>New York Times</td>\n",
       "      <td>Dec 28, 1996</td>\n",
       "      <td>[Nonfiction, Games]</td>\n",
       "      <td>[1, 1, 0, 0, 0, 0, 0, 0, 0, 0, 0]</td>\n",
       "      <td>[101, 6928, 1521, 1055, 2892, 22104, 2079, 200...</td>\n",
       "      <td>[1, 1, 1, 1, 1, 1, 1, 1, 1, 1, 1, 1, 1, 1, 1, ...</td>\n",
       "    </tr>\n",
       "    <tr>\n",
       "      <th>1</th>\n",
       "      <td>Creatures of the Night (Second Edition)</td>\n",
       "      <td>Two of literary comics modern masters present ...</td>\n",
       "      <td>Neil Gaiman</td>\n",
       "      <td>Nov 29, 2016</td>\n",
       "      <td>[Fiction, Graphic Novels &amp; Manga]</td>\n",
       "      <td>[2, 2, 0, 0, 0, 0, 0, 0, 0, 0, 0]</td>\n",
       "      <td>[101, 2048, 1997, 4706, 5888, 2715, 5972, 2556...</td>\n",
       "      <td>[1, 1, 1, 1, 1, 1, 1, 1, 1, 1, 1, 1, 1, 1, 1, ...</td>\n",
       "    </tr>\n",
       "    <tr>\n",
       "      <th>2</th>\n",
       "      <td>Cornelia and the Audacious Escapades of the So...</td>\n",
       "      <td>Eleven-year-old Cornelia is the daughter of tw...</td>\n",
       "      <td>Lesley M. M. Blume</td>\n",
       "      <td>Jan 08, 2008</td>\n",
       "      <td>[Children’s Books, Children’s Middle Grade Books]</td>\n",
       "      <td>[3, 3, 0, 0, 0, 0, 0, 0, 0, 0, 0]</td>\n",
       "      <td>[101, 5408, 1011, 2095, 1011, 2214, 9781, 1390...</td>\n",
       "      <td>[1, 1, 1, 1, 1, 1, 1, 1, 1, 1, 1, 1, 1, 1, 1, ...</td>\n",
       "    </tr>\n",
       "    <tr>\n",
       "      <th>3</th>\n",
       "      <td>The Alchemist's Daughter</td>\n",
       "      <td>During the English Age of Reason, a woman cloi...</td>\n",
       "      <td>Katharine McMahon</td>\n",
       "      <td>Oct 24, 2006</td>\n",
       "      <td>[Fiction, Historical Fiction]</td>\n",
       "      <td>[2, 4, 0, 0, 0, 0, 0, 0, 0, 0, 0]</td>\n",
       "      <td>[101, 2076, 1996, 2394, 2287, 1997, 3114, 1010...</td>\n",
       "      <td>[1, 1, 1, 1, 1, 1, 1, 1, 1, 1, 1, 1, 1, 1, 1, ...</td>\n",
       "    </tr>\n",
       "    <tr>\n",
       "      <th>4</th>\n",
       "      <td>Dangerous Boy</td>\n",
       "      <td>A modern-day retelling of The Strange Case of ...</td>\n",
       "      <td>Mandy Hubbard</td>\n",
       "      <td>Aug 30, 2012</td>\n",
       "      <td>[Teen &amp; Young Adult, Teen &amp; Young Adult Myster...</td>\n",
       "      <td>[4, 5, 1, 1, 0, 0, 0, 0, 0, 0, 0]</td>\n",
       "      <td>[101, 1037, 2715, 1011, 2154, 2128, 23567, 207...</td>\n",
       "      <td>[1, 1, 1, 1, 1, 1, 1, 1, 1, 1, 1, 1, 1, 1, 1, ...</td>\n",
       "    </tr>\n",
       "  </tbody>\n",
       "</table>\n",
       "</div>"
      ],
      "text/plain": [
       "                                               title  \\\n",
       "0  The New York Times Daily Crossword Puzzles: Th...   \n",
       "1            Creatures of the Night (Second Edition)   \n",
       "2  Cornelia and the Audacious Escapades of the So...   \n",
       "3                           The Alchemist's Daughter   \n",
       "4                                      Dangerous Boy   \n",
       "\n",
       "                                                body              author  \\\n",
       "0  Monday’s Crosswords Do with EaseTuesday’s Cros...      New York Times   \n",
       "1  Two of literary comics modern masters present ...         Neil Gaiman   \n",
       "2  Eleven-year-old Cornelia is the daughter of tw...  Lesley M. M. Blume   \n",
       "3  During the English Age of Reason, a woman cloi...   Katharine McMahon   \n",
       "4  A modern-day retelling of The Strange Case of ...       Mandy Hubbard   \n",
       "\n",
       "       published                                             topics  \\\n",
       "0  Dec 28, 1996                                 [Nonfiction, Games]   \n",
       "1  Nov 29, 2016                   [Fiction, Graphic Novels & Manga]   \n",
       "2  Jan 08, 2008   [Children’s Books, Children’s Middle Grade Books]   \n",
       "3  Oct 24, 2006                       [Fiction, Historical Fiction]   \n",
       "4  Aug 30, 2012   [Teen & Young Adult, Teen & Young Adult Myster...   \n",
       "\n",
       "                              labels  \\\n",
       "0  [1, 1, 0, 0, 0, 0, 0, 0, 0, 0, 0]   \n",
       "1  [2, 2, 0, 0, 0, 0, 0, 0, 0, 0, 0]   \n",
       "2  [3, 3, 0, 0, 0, 0, 0, 0, 0, 0, 0]   \n",
       "3  [2, 4, 0, 0, 0, 0, 0, 0, 0, 0, 0]   \n",
       "4  [4, 5, 1, 1, 0, 0, 0, 0, 0, 0, 0]   \n",
       "\n",
       "                                     tokenizedTopics  \\\n",
       "0  [101, 6928, 1521, 1055, 2892, 22104, 2079, 200...   \n",
       "1  [101, 2048, 1997, 4706, 5888, 2715, 5972, 2556...   \n",
       "2  [101, 5408, 1011, 2095, 1011, 2214, 9781, 1390...   \n",
       "3  [101, 2076, 1996, 2394, 2287, 1997, 3114, 1010...   \n",
       "4  [101, 1037, 2715, 1011, 2154, 2128, 23567, 207...   \n",
       "\n",
       "                                       attentionMask  \n",
       "0  [1, 1, 1, 1, 1, 1, 1, 1, 1, 1, 1, 1, 1, 1, 1, ...  \n",
       "1  [1, 1, 1, 1, 1, 1, 1, 1, 1, 1, 1, 1, 1, 1, 1, ...  \n",
       "2  [1, 1, 1, 1, 1, 1, 1, 1, 1, 1, 1, 1, 1, 1, 1, ...  \n",
       "3  [1, 1, 1, 1, 1, 1, 1, 1, 1, 1, 1, 1, 1, 1, 1, ...  \n",
       "4  [1, 1, 1, 1, 1, 1, 1, 1, 1, 1, 1, 1, 1, 1, 1, ...  "
      ]
     },
     "execution_count": 6,
     "metadata": {},
     "output_type": "execute_result"
    }
   ],
   "source": [
    "from BlurbDataset.BlurbDataset import BlurbDataset\n",
    "data = BlurbDataset(earlyStop=earlyStop, batch_size=batch_size)\n",
    "display(data.trainDF.head())\n",
    "data.prepareData()\n",
    "data.trainDF.head()"
   ]
  },
  {
   "attachments": {},
   "cell_type": "markdown",
   "metadata": {},
   "source": [
    "Save the perprocessed dataset"
   ]
  },
  {
   "cell_type": "code",
   "execution_count": 3,
   "metadata": {},
   "outputs": [],
   "source": [
    "data.saveData()"
   ]
  },
  {
   "attachments": {},
   "cell_type": "markdown",
   "metadata": {},
   "source": [
    "Load preprocessed dataset"
   ]
  },
  {
   "cell_type": "code",
   "execution_count": 4,
   "metadata": {},
   "outputs": [],
   "source": [
    "data = BlurbDataset(earlyStop=earlyStop, batch_size=batch_size,\n",
    "                          tokenizedDataPath=\"BlurbDataset\")"
   ]
  },
  {
   "attachments": {},
   "cell_type": "markdown",
   "metadata": {},
   "source": [
    "During training and inference the datapoints are masked such that at the chosen hierarchyLevel the datapoints that have label 0 - meaning no label at this hierarchy level - are being excluded. The following line of code shows this in action. "
   ]
  },
  {
   "cell_type": "code",
   "execution_count": 18,
   "metadata": {},
   "outputs": [
    {
     "name": "stdout",
     "output_type": "stream",
     "text": [
      "contant tensor([6, 8, 2, 0, 0, 3, 5, 2], dtype=torch.int32) and shape of b_labels: torch.Size([8])\n",
      "contant tensor([[  101,  1037,  3748,  ...,     0,     0,     0],\n",
      "        [  101,  3251,  2009,  ...,     0,     0,     0],\n",
      "        [  101,  1996,  2959,  ...,     0,     0,     0],\n",
      "        [  101,  2023,  8001,  ...,     0,     0,     0],\n",
      "        [  101,  2984, 28352,  ...,     0,     0,     0],\n",
      "        [  101,  1996,  2146,  ...,     0,     0,     0]]) and shape of b_input_ids: torch.Size([6, 512])\n",
      "contant tensor([6, 8, 2, 3, 5, 2], dtype=torch.int32) and shape of b_labels: torch.Size([6])\n"
     ]
    }
   ],
   "source": [
    "hierarchyLevel = 2\n",
    "for batch in data.dataloaders[\"train\"]:\n",
    "    b_labels = batch[2][:,hierarchyLevel]\n",
    "    print(f\"contant {b_labels} and shape of b_labels: {b_labels.shape}\")\n",
    "    b_input_ids = batch[0][b_labels!=0,:]\n",
    "    print(f\"contant {b_input_ids} and shape of b_input_ids: {b_input_ids.shape}\")\n",
    "    b_labels = b_labels[b_labels!=0]\n",
    "    print(f\"contant {b_labels} and shape of b_labels: {b_labels.shape}\")\n",
    "    break"
   ]
  },
  {
   "attachments": {},
   "cell_type": "markdown",
   "metadata": {},
   "source": [
    "### How to load the BERT model"
   ]
  },
  {
   "attachments": {},
   "cell_type": "markdown",
   "metadata": {},
   "source": [
    "The BERT model is contained within a custom class called BSC - bert for sentence classification. Code show how to initialize the model:"
   ]
  },
  {
   "cell_type": "code",
   "execution_count": 7,
   "metadata": {},
   "outputs": [
    {
     "name": "stdout",
     "output_type": "stream",
     "text": [
      "No GPU available, using the CPU instead.\n"
     ]
    },
    {
     "name": "stderr",
     "output_type": "stream",
     "text": [
      "Some weights of the model checkpoint at bert-base-uncased were not used when initializing BertForSequenceClassification: ['cls.seq_relationship.bias', 'cls.seq_relationship.weight', 'cls.predictions.transform.dense.bias', 'cls.predictions.transform.LayerNorm.bias', 'cls.predictions.decoder.weight', 'cls.predictions.transform.dense.weight', 'cls.predictions.transform.LayerNorm.weight', 'cls.predictions.bias']\n",
      "- This IS expected if you are initializing BertForSequenceClassification from the checkpoint of a model trained on another task or with another architecture (e.g. initializing a BertForSequenceClassification model from a BertForPreTraining model).\n",
      "- This IS NOT expected if you are initializing BertForSequenceClassification from the checkpoint of a model that you expect to be exactly identical (initializing a BertForSequenceClassification model from a BertForSequenceClassification model).\n",
      "Some weights of BertForSequenceClassification were not initialized from the model checkpoint at bert-base-uncased and are newly initialized: ['classifier.weight', 'classifier.bias']\n",
      "You should probably TRAIN this model on a down-stream task to be able to use it for predictions and inference.\n",
      "Some weights of the model checkpoint at bert-base-uncased were not used when initializing BertForSequenceClassification: ['cls.seq_relationship.bias', 'cls.seq_relationship.weight', 'cls.predictions.transform.dense.bias', 'cls.predictions.transform.LayerNorm.bias', 'cls.predictions.decoder.weight', 'cls.predictions.transform.dense.weight', 'cls.predictions.transform.LayerNorm.weight', 'cls.predictions.bias']\n",
      "- This IS expected if you are initializing BertForSequenceClassification from the checkpoint of a model trained on another task or with another architecture (e.g. initializing a BertForSequenceClassification model from a BertForPreTraining model).\n",
      "- This IS NOT expected if you are initializing BertForSequenceClassification from the checkpoint of a model that you expect to be exactly identical (initializing a BertForSequenceClassification model from a BertForSequenceClassification model).\n",
      "Some weights of BertForSequenceClassification were not initialized from the model checkpoint at bert-base-uncased and are newly initialized: ['classifier.weight', 'classifier.bias']\n",
      "You should probably TRAIN this model on a down-stream task to be able to use it for predictions and inference.\n",
      "c:\\Users\\luc.stebens\\Anaconda3\\envs\\BERTTextClassification\\lib\\site-packages\\transformers\\optimization.py:407: FutureWarning: This implementation of AdamW is deprecated and will be removed in a future version. Use the PyTorch implementation torch.optim.AdamW instead, or set `no_deprecation_warning=True` to disable this warning\n",
      "  warnings.warn(\n"
     ]
    }
   ],
   "source": [
    "from HierarchicalBERT.BERTSentenceClassification import BSC\n",
    "\n",
    "model = BSC(\n",
    "            dataloaders = data.dataloaders,\n",
    "            epochs=epochs,\n",
    "            listLabelDict = data.listLabelDict,\n",
    "            num_labels=data.num_labels,\n",
    "            hierarchyLevel=hierarchyLevel\n",
    "        )"
   ]
  },
  {
   "attachments": {},
   "cell_type": "markdown",
   "metadata": {},
   "source": [
    "Train the model:"
   ]
  },
  {
   "cell_type": "code",
   "execution_count": 8,
   "metadata": {},
   "outputs": [
    {
     "name": "stdout",
     "output_type": "stream",
     "text": [
      "\n",
      "======== Epoch 1 / 1 ========\n",
      "Training...\n"
     ]
    },
    {
     "name": "stderr",
     "output_type": "stream",
     "text": [
      "Training on batch:   0%|          | 0/2 [00:00<?, ?it/s]c:\\Code\\BertSentenceClassification\\HierarchicalBERT\\BERTSentenceClassification.py:191: UserWarning: To copy construct from a tensor, it is recommended to use sourceTensor.clone().detach() or sourceTensor.clone().detach().requires_grad_(True), rather than torch.tensor(sourceTensor).\n",
      "  \n",
      "c:\\Code\\BertSentenceClassification\\HierarchicalBERT\\BERTSentenceClassification.py:203: UserWarning: To copy construct from a tensor, it is recommended to use sourceTensor.clone().detach() or sourceTensor.clone().detach().requires_grad_(True), rather than torch.tensor(sourceTensor).\n",
      "  return_dict=True)\n",
      "Training on batch: 3it [01:04, 21.53s/it]                       \n",
      "c:\\Code\\BertSentenceClassification\\HierarchicalBERT\\BERTSentenceClassification.py:261: UserWarning: To copy construct from a tensor, it is recommended to use sourceTensor.clone().detach() or sourceTensor.clone().detach().requires_grad_(True), rather than torch.tensor(sourceTensor).\n",
      "  \n"
     ]
    },
    {
     "name": "stdout",
     "output_type": "stream",
     "text": [
      "\n",
      "  Average training loss: 4.22\n",
      "\n",
      "Running Validation...\n",
      "  Accuracy: 0.00\n",
      "  Validation Loss: 4.16\n",
      "\n",
      "Training complete!\n"
     ]
    }
   ],
   "source": [
    "model.train()"
   ]
  },
  {
   "attachments": {},
   "cell_type": "markdown",
   "metadata": {},
   "source": [
    "and evaluate the training and validation loss over the epochs:"
   ]
  },
  {
   "cell_type": "code",
   "execution_count": 8,
   "metadata": {},
   "outputs": [
    {
     "data": {
      "image/png": "[encoded data removed]",
      "text/plain": [
       "<Figure size 1200x600 with 1 Axes>"
      ]
     },
     "metadata": {},
     "output_type": "display_data"
    }
   ],
   "source": [
    "model.plotTrainingLoss()"
   ]
  },
  {
   "attachments": {},
   "cell_type": "markdown",
   "metadata": {},
   "source": [
    "### Model Testing"
   ]
  },
  {
   "cell_type": "code",
   "execution_count": 9,
   "metadata": {},
   "outputs": [
    {
     "name": "stderr",
     "output_type": "stream",
     "text": [
      "Testing on batch:   0%|          | 0/2 [00:00<?, ?it/s]c:\\Code\\BertSentenceClassification\\HierarchicalBERT\\BERTSentenceClassification.py:118: UserWarning: To copy construct from a tensor, it is recommended to use sourceTensor.clone().detach() or sourceTensor.clone().detach().requires_grad_(True), rather than torch.tensor(sourceTensor).\n",
      "  b_labels = torch.tensor(b_labels[b_labels!=0],dtype=torch.long).to(self.device)\n",
      "Testing on batch:  50%|█████     | 1/2 [00:04<00:04,  4.87s/it]"
     ]
    },
    {
     "name": "stdout",
     "output_type": "stream",
     "text": [
      "Step: 0/2\n",
      "True labels: [17  5  3 39]\n",
      "Predictions: [41 41 78 41]\n"
     ]
    },
    {
     "name": "stderr",
     "output_type": "stream",
     "text": [
      "Testing on batch: 100%|██████████| 2/2 [00:06<00:00,  3.04s/it]"
     ]
    },
    {
     "name": "stdout",
     "output_type": "stream",
     "text": [
      "Testing done.\n"
     ]
    },
    {
     "name": "stderr",
     "output_type": "stream",
     "text": [
      "\n"
     ]
    }
   ],
   "source": [
    "predictions = model.test()"
   ]
  },
  {
   "attachments": {},
   "cell_type": "markdown",
   "metadata": {},
   "source": [
    "Show a couple of predicitons"
   ]
  },
  {
   "attachments": {},
   "cell_type": "markdown",
   "metadata": {},
   "source": [
    "### Inference"
   ]
  },
  {
   "cell_type": "code",
   "execution_count": 5,
   "metadata": {},
   "outputs": [],
   "source": [
    "import pandas as pd\n",
    "import numpy as np\n",
    "\n",
    "body = np.array([\"This wordless collection of strips by renowned artist/designer Rian Hughes reveals the lighter side of our obsession with social rankings.When everyone has a number, everyone knows their place. Lower numbers are better, higher numbers are less important, and that’s just the way it is. But what if that number could change? You might try to buck the system and assert your individuality… or you might end up with a big fat zero.Big questions are explored and unexpected answers found in the first solo comics collection from award-winning designer &amp; illustrator Rian Hughes. His whimsical, witty, and insightful strips will make you both smile and consider. Where do you stand in the pecking order? Is your number up? 2018 Pubwest Design Awards – Gold Winner for Graphic Album, New Material\",\n",
    "    \"There’s hot, and then there’s Delilah Devlin. She’s in a class  by herself.\",\n",
    "    \"A little girl proudly shows off her reading skills as she spends a day out on the town with her mom. Children are sure to be delighted as they read along with the narrator in ths fun, rhyming, easy-to-read story.\",\n",
    "    \"The Screech Owls have come to Salt Lake City for the Peewee Winter Games – with the championship game to be played on the same ice surface where the Canadian men and women won Olympic hockey gold! Nish has plans to run his own competition: the Gross-Out Olympics, featuring everything from taping players to dressing room walls with duct tape to the “Snot Shot” – seeing how far they can fire a jellybean using only their noses. He also has a team contest to see who can figure out the Great Nish Secret and guess what the nuttiest Screech Owl of all has buried at centre ice for good luck. But that secret pales once the Owls find out something strange – something terrifying – is going on in the tunnels deep beneath the magnificent hills surrounding the Olympic site.\",\n",
    "    \"Illus. in full color. Wild and domestic animals that preschoolers will want to see.From the Trade Paperback edition.\",            \n",
    "])\n",
    "datapoints = pd.DataFrame()\n",
    "datapoints[\"body\"] = body"
   ]
  },
  {
   "cell_type": "code",
   "execution_count": 6,
   "metadata": {},
   "outputs": [
    {
     "data": {
      "text/html": [
       "<div>\n",
       "<style scoped>\n",
       "    .dataframe tbody tr th:only-of-type {\n",
       "        vertical-align: middle;\n",
       "    }\n",
       "\n",
       "    .dataframe tbody tr th {\n",
       "        vertical-align: top;\n",
       "    }\n",
       "\n",
       "    .dataframe thead th {\n",
       "        text-align: right;\n",
       "    }\n",
       "</style>\n",
       "<table border=\"1\" class=\"dataframe\">\n",
       "  <thead>\n",
       "    <tr style=\"text-align: right;\">\n",
       "      <th></th>\n",
       "      <th>body</th>\n",
       "    </tr>\n",
       "  </thead>\n",
       "  <tbody>\n",
       "    <tr>\n",
       "      <th>0</th>\n",
       "      <td>This wordless collection of strips by renowned...</td>\n",
       "    </tr>\n",
       "    <tr>\n",
       "      <th>1</th>\n",
       "      <td>There’s hot, and then there’s Delilah Devlin. ...</td>\n",
       "    </tr>\n",
       "    <tr>\n",
       "      <th>2</th>\n",
       "      <td>A little girl proudly shows off her reading sk...</td>\n",
       "    </tr>\n",
       "    <tr>\n",
       "      <th>3</th>\n",
       "      <td>The Screech Owls have come to Salt Lake City f...</td>\n",
       "    </tr>\n",
       "    <tr>\n",
       "      <th>4</th>\n",
       "      <td>Illus. in full color. Wild and domestic animal...</td>\n",
       "    </tr>\n",
       "  </tbody>\n",
       "</table>\n",
       "</div>"
      ],
      "text/plain": [
       "                                                body\n",
       "0  This wordless collection of strips by renowned...\n",
       "1  There’s hot, and then there’s Delilah Devlin. ...\n",
       "2  A little girl proudly shows off her reading sk...\n",
       "3  The Screech Owls have come to Salt Lake City f...\n",
       "4  Illus. in full color. Wild and domestic animal..."
      ]
     },
     "execution_count": 6,
     "metadata": {},
     "output_type": "execute_result"
    }
   ],
   "source": [
    "datapoints"
   ]
  },
  {
   "cell_type": "code",
   "execution_count": 7,
   "metadata": {},
   "outputs": [
    {
     "name": "stderr",
     "output_type": "stream",
     "text": [
      "Tokenization:   0%|          | 0/5 [00:00<?, ?it/s]c:\\Users\\luc.stebens\\Anaconda3\\envs\\BERTTextClassification\\lib\\site-packages\\transformers\\tokenization_utils_base.py:2364: FutureWarning: The `pad_to_max_length` argument is deprecated and will be removed in a future version, use `padding=True` or `padding='longest'` to pad to the longest sequence in the batch, or use `padding='max_length'` to pad to a max length. In this case, you can give a specific length with `max_length` (e.g. `max_length=45`) or leave max_length to None to pad to the maximal input size of the model (e.g. 512 for Bert).\n",
      "  warnings.warn(\n",
      "Tokenization: 100%|██████████| 5/5 [00:00<00:00,  6.35it/s]\n"
     ]
    }
   ],
   "source": [
    "predictions = model.inference(datapoints, batch_size=4)"
   ]
  },
  {
   "cell_type": "code",
   "execution_count": null,
   "metadata": {},
   "outputs": [
    {
     "ename": "TypeError",
     "evalue": "'NoneType' object is not subscriptable",
     "output_type": "error",
     "traceback": [
      "\u001b[1;31m---------------------------------------------------------------------------\u001b[0m",
      "\u001b[1;31mTypeError\u001b[0m                                 Traceback (most recent call last)",
      "Cell \u001b[1;32mIn[8], line 1\u001b[0m\n\u001b[1;32m----> 1\u001b[0m translatedPredictions \u001b[39m=\u001b[39m model\u001b[39m.\u001b[39;49mtranslatePredictions(predictions)\n",
      "File \u001b[1;32mc:\\Code\\BertSentenceClassification\\HierarchicalBERT\\BERTSentenceClassification.py:372\u001b[0m, in \u001b[0;36mBSC.translatePredictions\u001b[1;34m(self, predictions)\u001b[0m\n\u001b[0;32m    371\u001b[0m \u001b[39mdef\u001b[39;00m \u001b[39mtranslatePredictions\u001b[39m(\u001b[39mself\u001b[39m, predictions:np\u001b[39m.\u001b[39marray) \u001b[39m-\u001b[39m\u001b[39m>\u001b[39m np\u001b[39m.\u001b[39marray:\n\u001b[1;32m--> 372\u001b[0m     \u001b[39mdict\u001b[39m \u001b[39m=\u001b[39m \u001b[39mself\u001b[39;49m\u001b[39m.\u001b[39;49mlistLabelDicts[\u001b[39mself\u001b[39;49m\u001b[39m.\u001b[39;49mhierarchyLevel]\n\u001b[0;32m    373\u001b[0m     \u001b[39mreturn\u001b[39;00m np\u001b[39m.\u001b[39marray([\u001b[39mlist\u001b[39m(\u001b[39mdict\u001b[39m\u001b[39m.\u001b[39mkeys())[\u001b[39mlist\u001b[39m(\u001b[39mdict\u001b[39m\u001b[39m.\u001b[39mvalues())\u001b[39m.\u001b[39mindex(prediction)] \n\u001b[0;32m    374\u001b[0m                      \u001b[39mfor\u001b[39;00m prediction \u001b[39min\u001b[39;00m predictions])\n",
      "\u001b[1;31mTypeError\u001b[0m: 'NoneType' object is not subscriptable"
     ]
    }
   ],
   "source": [
    "translatedPredictions = model.translatePredictions(predictions)"
   ]
  },
  {
   "attachments": {},
   "cell_type": "markdown",
   "metadata": {},
   "source": [
    "### Save Model"
   ]
  },
  {
   "cell_type": "code",
   "execution_count": 9,
   "metadata": {},
   "outputs": [],
   "source": [
    "model.saveModel(\"testModel\")"
   ]
  },
  {
   "attachments": {},
   "cell_type": "markdown",
   "metadata": {},
   "source": [
    "### Load Model"
   ]
  },
  {
   "cell_type": "code",
   "execution_count": 10,
   "metadata": {},
   "outputs": [
    {
     "name": "stdout",
     "output_type": "stream",
     "text": [
      "No GPU available, using the CPU instead.\n"
     ]
    },
    {
     "name": "stderr",
     "output_type": "stream",
     "text": [
      "Some weights of the model checkpoint at bert-base-uncased were not used when initializing BertForSequenceClassification: ['cls.seq_relationship.bias', 'cls.seq_relationship.weight', 'cls.predictions.transform.dense.bias', 'cls.predictions.transform.LayerNorm.bias', 'cls.predictions.decoder.weight', 'cls.predictions.transform.dense.weight', 'cls.predictions.transform.LayerNorm.weight', 'cls.predictions.bias']\n",
      "- This IS expected if you are initializing BertForSequenceClassification from the checkpoint of a model trained on another task or with another architecture (e.g. initializing a BertForSequenceClassification model from a BertForPreTraining model).\n",
      "- This IS NOT expected if you are initializing BertForSequenceClassification from the checkpoint of a model that you expect to be exactly identical (initializing a BertForSequenceClassification model from a BertForSequenceClassification model).\n",
      "Some weights of BertForSequenceClassification were not initialized from the model checkpoint at bert-base-uncased and are newly initialized: ['classifier.weight', 'classifier.bias']\n",
      "You should probably TRAIN this model on a down-stream task to be able to use it for predictions and inference.\n"
     ]
    },
    {
     "name": "stdout",
     "output_type": "stream",
     "text": [
      "80\n"
     ]
    }
   ],
   "source": [
    "from HierarchicalBERT.BERTSentenceClassification import loadBSCmodel\n",
    "model1 = loadBSCmodel(\"testModel\", listLabelDict=data.listLabelDict)"
   ]
  },
  {
   "attachments": {},
   "cell_type": "markdown",
   "metadata": {},
   "source": [
    "Compare model and model1. If you do the comparison, be careful that the model you are trying to save is being saved under a name that is not being used."
   ]
  },
  {
   "cell_type": "code",
   "execution_count": 11,
   "metadata": {},
   "outputs": [
    {
     "name": "stdout",
     "output_type": "stream",
     "text": [
      "80\n"
     ]
    },
    {
     "name": "stderr",
     "output_type": "stream",
     "text": [
      "Tokenization:   0%|          | 0/6 [00:00<?, ?it/s]c:\\Users\\luc.stebens\\Anaconda3\\envs\\BERTTextClassification\\lib\\site-packages\\transformers\\tokenization_utils_base.py:2364: FutureWarning: The `pad_to_max_length` argument is deprecated and will be removed in a future version, use `padding=True` or `padding='longest'` to pad to the longest sequence in the batch, or use `padding='max_length'` to pad to a max length. In this case, you can give a specific length with `max_length` (e.g. `max_length=45`) or leave max_length to None to pad to the maximal input size of the model (e.g. 512 for Bert).\n",
      "  warnings.warn(\n",
      "Tokenization: 100%|██████████| 6/6 [00:03<00:00,  1.56it/s]\n"
     ]
    },
    {
     "name": "stdout",
     "output_type": "stream",
     "text": [
      "[[-0.39166233 -0.01105917  0.62757355  0.2581002  -0.5915158  -0.42328113\n",
      "   0.69254434  0.32350126  0.14881566  0.13325533  0.683328   -0.17779809\n",
      "  -0.09233239 -0.16790654 -0.13353041 -0.24922892  0.4954337   0.17995632\n",
      "   0.1414423  -0.17373946  0.27532426  0.03611121  0.13871895 -0.24745283\n",
      "  -0.44242415 -0.83755773  0.01493363 -0.5309751   0.11680061 -0.09623164\n",
      "   0.20086399 -0.02508073  0.25304705 -0.10976006  0.06803933  0.11388931\n",
      "  -0.8511742  -0.6840383  -0.3696006  -0.22373904  0.25922513 -0.90005916\n",
      "  -0.4516124   0.37639132  0.2970895   0.22256057 -0.5775304  -0.03633775\n",
      "   0.3135993  -0.5804622  -0.35701013 -0.7480397  -0.62862164  0.12727606\n",
      "  -0.45576513 -0.0414384   0.18847606 -0.11329078 -0.08643678  0.12724036\n",
      "   0.12335202 -0.22874287 -0.2991783   0.29896784  0.41772845  0.26217222\n",
      "  -0.38913837 -0.62962383 -0.5040003  -0.27541906 -0.129283   -0.29825008\n",
      "  -0.11595756 -0.3540829   0.0956834  -0.02775306  0.6940205  -0.09227671\n",
      "   0.15689558  0.3107318 ]\n",
      " [-0.14058846  0.23826517  0.4127439   0.19500181 -0.54425263 -0.15525483\n",
      "   0.84162056  0.20974219  0.2968884   0.11382529  0.6100584  -0.25685233\n",
      "   0.07832514 -0.01934533  0.07156423 -0.28291535  0.11772206  0.23008548\n",
      "   0.15107712 -0.23805672  0.22175711  0.35320473  0.21646932 -0.02474125\n",
      "  -0.64201725 -0.68680966  0.24974689 -0.63317734 -0.16911486 -0.03929098\n",
      "   0.06944899 -0.09594528  0.16301566 -0.04465562  0.45098537  0.36420777\n",
      "  -0.6375388  -0.43353707 -0.3948411  -0.18812144  0.23431575 -0.64158183\n",
      "  -0.4553715   0.1781156   0.4562718   0.18832177 -0.6224793   0.02623004\n",
      "   0.39224476 -0.3800481  -0.32013673 -0.67853314 -0.7339156   0.10565864\n",
      "  -0.2723072   0.03302608  0.16401818  0.05853877 -0.171272    0.13102807\n",
      "  -0.06568918 -0.29371762 -0.4153469   0.05311535  0.27453938  0.22733\n",
      "  -0.43423185 -0.37444228 -0.52201605 -0.30708253  0.06435482 -0.37939543\n",
      "  -0.15320379 -0.37644583 -0.236962    0.16498892  0.5387253  -0.06139998\n",
      "  -0.03246497  0.40693432]\n",
      " [-0.38409922 -0.004697    0.58277255  0.24188545 -0.6425295  -0.42941582\n",
      "   0.67375255  0.31350568  0.18691196  0.09768981  0.66901845 -0.22972612\n",
      "  -0.02055287 -0.14715958 -0.09295499 -0.3130335   0.41881293  0.16286069\n",
      "   0.13241065 -0.17423679  0.29178265  0.09876722  0.08583787 -0.22403066\n",
      "  -0.5131343  -0.82588613 -0.00594755 -0.55970716  0.08923867 -0.12048426\n",
      "   0.18582928 -0.02558712  0.22572067 -0.14915182  0.2187574   0.14786753\n",
      "  -0.90193653 -0.672527   -0.40635708 -0.21237361  0.27459815 -0.8074391\n",
      "  -0.4821201   0.33698896  0.3102039   0.25924924 -0.6235506   0.02962914\n",
      "   0.30740672 -0.5591577  -0.36960775 -0.7686396  -0.74931467  0.0110318\n",
      "  -0.44392216 -0.06525464  0.14976874 -0.10781754 -0.07885293  0.0692796\n",
      "   0.08834253 -0.19232765 -0.3341323   0.30773517  0.39073426  0.24717246\n",
      "  -0.44531775 -0.588522   -0.52061874 -0.3192011  -0.11093359 -0.3532616\n",
      "  -0.1826921  -0.4477309   0.00226457  0.0245986   0.6088537  -0.05893867\n",
      "   0.11143074  0.3098105 ]\n",
      " [-0.38798597  0.02564994  0.70919335  0.3107669  -0.64018774 -0.35538852\n",
      "   0.81950307  0.351758    0.15267478  0.15144825  0.6248974  -0.20705463\n",
      "  -0.13038418 -0.12163936 -0.18213516 -0.22855236  0.47673312  0.15177521\n",
      "   0.16598615 -0.1810947   0.2092826   0.13992967  0.0368157  -0.20822707\n",
      "  -0.43088934 -0.8171991   0.03076288 -0.526747    0.08558294 -0.05896622\n",
      "   0.12876192  0.01931494  0.23176596 -0.1503905   0.13668069  0.15954047\n",
      "  -0.8859391  -0.65505886 -0.36574996 -0.28518808  0.15749025 -0.8957467\n",
      "  -0.5370771   0.38740554  0.27868187  0.21466313 -0.5707701   0.07482547\n",
      "   0.19229662 -0.5541581  -0.3502269  -0.7750922  -0.6384995   0.06070729\n",
      "  -0.42537722 -0.04019539  0.1820682  -0.11595744 -0.08057731  0.14717275\n",
      "   0.08096617 -0.3076155  -0.36974913  0.24414062  0.40692234  0.25526085\n",
      "  -0.41867867 -0.5922078  -0.5282996  -0.23421796 -0.08815761 -0.29837847\n",
      "  -0.18156725 -0.4123945   0.04872598 -0.03481311  0.6863576  -0.02754398\n",
      "   0.11813536  0.40124524]\n",
      " [-0.39036712  0.06007484  0.5593312   0.14688641 -0.65263295 -0.5411977\n",
      "   0.574366    0.33015102  0.23486602  0.10670174  0.705386   -0.2827139\n",
      "  -0.14769349 -0.17232913 -0.18993175 -0.23990661  0.48176402  0.25498143\n",
      "   0.07097304 -0.20252785  0.24250326  0.1407946   0.03571743 -0.27031928\n",
      "  -0.42440116 -0.8312377   0.04608586 -0.51835096  0.08336017 -0.14258836\n",
      "   0.18789697 -0.01398838  0.33817756 -0.1585604   0.1748988   0.11731219\n",
      "  -0.8729059  -0.7946071  -0.49163073 -0.2533232   0.2598589  -0.8009248\n",
      "  -0.40212643  0.2424975   0.4407405   0.27786413 -0.56877196  0.02178364\n",
      "   0.38123363 -0.58741474 -0.3769996  -0.83332485 -0.7202083   0.04414653\n",
      "  -0.56447023 -0.15092774  0.16008726 -0.09686132 -0.16890508  0.14063814\n",
      "   0.15907492 -0.05977619 -0.2735783   0.48755747  0.42782903  0.32084304\n",
      "  -0.3346724  -0.69555414 -0.4955463  -0.39330307 -0.04483746 -0.3498962\n",
      "  -0.17460518 -0.4284771   0.12309912  0.07437356  0.58438885 -0.07966954\n",
      "   0.08845697  0.3316505 ]\n",
      " [-0.34625912 -0.00187039  0.6294455   0.2703109  -0.72825783 -0.5318523\n",
      "   0.6931524   0.37428588  0.09938715  0.15029472  0.7294992  -0.17661893\n",
      "  -0.07401168 -0.15970539 -0.21837822 -0.23749559  0.58829075  0.14299135\n",
      "   0.15201268 -0.13651377  0.24405618  0.10997394  0.11735991 -0.25248867\n",
      "  -0.4260165  -0.8894429  -0.06623514 -0.5328641   0.15283114 -0.20286684\n",
      "   0.18859847 -0.06336296  0.35970354 -0.18619247  0.17991412  0.03965234\n",
      "  -0.9473837  -0.8268545  -0.41604224 -0.26832885  0.3298421  -0.9340339\n",
      "  -0.4711648   0.35040054  0.30968726  0.27596062 -0.60482895 -0.00544953\n",
      "   0.32344806 -0.67296803 -0.3543448  -0.893318   -0.7563499   0.05324412\n",
      "  -0.58412564 -0.1430814   0.20461296 -0.12391528 -0.14118336  0.14626329\n",
      "   0.16937464 -0.08462614 -0.22198059  0.46619168  0.40201902  0.30085105\n",
      "  -0.37075612 -0.738641   -0.45401376 -0.23151076 -0.16072088 -0.29261547\n",
      "  -0.13784808 -0.42444912  0.1387258   0.011978    0.7280121  -0.05270352\n",
      "   0.18015122  0.2566182 ]]\n",
      "predictions: [76  6  6  6 10 10]\n",
      "translatedPredictions: ['Travel: Central & South America' 'Cozy Mysteries' 'Cozy Mysteries'\n",
      " 'Cozy Mysteries' 'U.S. History' 'U.S. History']\n"
     ]
    }
   ],
   "source": [
    "print(f\"{model.num_labels}\")\n",
    "\n",
    "import pandas as pd\n",
    "import numpy as np\n",
    "\n",
    "body = np.array([\"This wordless collection of strips by renowned artist/designer Rian Hughes reveals the lighter side of our obsession with social rankings.When everyone has a number, everyone knows their place. Lower numbers are better, higher numbers are less important, and that’s just the way it is. But what if that number could change? You might try to buck the system and assert your individuality… or you might end up with a big fat zero.Big questions are explored and unexpected answers found in the first solo comics collection from award-winning designer &amp; illustrator Rian Hughes. His whimsical, witty, and insightful strips will make you both smile and consider. Where do you stand in the pecking order? Is your number up? 2018 Pubwest Design Awards – Gold Winner for Graphic Album, New Material\",\n",
    "    \"There’s hot, and then there’s Delilah Devlin. She’s in a class  by herself.\",\n",
    "    \"A little girl proudly shows off her reading skills as she spends a day out on the town with her mom. Children are sure to be delighted as they read along with the narrator in ths fun, rhyming, easy-to-read story.\",\n",
    "    \"The Screech Owls have come to Salt Lake City for the Peewee Winter Games – with the championship game to be played on the same ice surface where the Canadian men and women won Olympic hockey gold! Nish has plans to run his own competition: the Gross-Out Olympics, featuring everything from taping players to dressing room walls with duct tape to the “Snot Shot” – seeing how far they can fire a jellybean using only their noses. He also has a team contest to see who can figure out the Great Nish Secret and guess what the nuttiest Screech Owl of all has buried at centre ice for good luck. But that secret pales once the Owls find out something strange – something terrifying – is going on in the tunnels deep beneath the magnificent hills surrounding the Olympic site.\",\n",
    "    \"Illus. in full color. Wild and domestic animals that preschoolers will want to see.From the Trade Paperback edition.\",            \n",
    "    \"With his unique knack for making cutting-edge theoretical science effortlessly accessible, world-renowned physicist Paul Davies now tackles an issue that has boggled minds for centuries: Is time travel possible? The answer, insists Davies, is definitely yes—once you iron out a few kinks in the space-time continuum. With tongue placed firmly in cheek, Davies explains the theoretical physics that make visiting the future and revisiting the past possible, then proceeds to lay out a four-stage process for assembling a time machine and making it work. Wildly inventive and theoretically sound, How to Build a Time Machine is creative science at its best—illuminating, entertaining, and thought provoking.\",\n",
    "])\n",
    "datapoints = pd.DataFrame()\n",
    "datapoints[\"body\"] = body\n",
    "\n",
    "predictions = model.inference(datapoints, batch_size=16)\n",
    "translatedPredictions = model.translatePredictions(predictions)\n",
    "\n",
    "print(f\"predictions: {predictions}\")\n",
    "print(f\"translatedPredictions: {translatedPredictions}\")"
   ]
  },
  {
   "cell_type": "code",
   "execution_count": 12,
   "metadata": {},
   "outputs": [
    {
     "name": "stdout",
     "output_type": "stream",
     "text": [
      "80\n"
     ]
    },
    {
     "name": "stderr",
     "output_type": "stream",
     "text": [
      "Tokenization:   0%|          | 0/6 [00:00<?, ?it/s]c:\\Users\\luc.stebens\\Anaconda3\\envs\\BERTTextClassification\\lib\\site-packages\\transformers\\tokenization_utils_base.py:2364: FutureWarning: The `pad_to_max_length` argument is deprecated and will be removed in a future version, use `padding=True` or `padding='longest'` to pad to the longest sequence in the batch, or use `padding='max_length'` to pad to a max length. In this case, you can give a specific length with `max_length` (e.g. `max_length=45`) or leave max_length to None to pad to the maximal input size of the model (e.g. 512 for Bert).\n",
      "  warnings.warn(\n",
      "Tokenization: 100%|██████████| 6/6 [00:02<00:00,  2.07it/s]\n"
     ]
    },
    {
     "name": "stdout",
     "output_type": "stream",
     "text": [
      "[[-0.39166233 -0.01105917  0.62757355  0.2581002  -0.5915158  -0.42328113\n",
      "   0.69254434  0.32350126  0.14881566  0.13325533  0.683328   -0.17779809\n",
      "  -0.09233239 -0.16790654 -0.13353041 -0.24922892  0.4954337   0.17995632\n",
      "   0.1414423  -0.17373946  0.27532426  0.03611121  0.13871895 -0.24745283\n",
      "  -0.44242415 -0.83755773  0.01493363 -0.5309751   0.11680061 -0.09623164\n",
      "   0.20086399 -0.02508073  0.25304705 -0.10976006  0.06803933  0.11388931\n",
      "  -0.8511742  -0.6840383  -0.3696006  -0.22373904  0.25922513 -0.90005916\n",
      "  -0.4516124   0.37639132  0.2970895   0.22256057 -0.5775304  -0.03633775\n",
      "   0.3135993  -0.5804622  -0.35701013 -0.7480397  -0.62862164  0.12727606\n",
      "  -0.45576513 -0.0414384   0.18847606 -0.11329078 -0.08643678  0.12724036\n",
      "   0.12335202 -0.22874287 -0.2991783   0.29896784  0.41772845  0.26217222\n",
      "  -0.38913837 -0.62962383 -0.5040003  -0.27541906 -0.129283   -0.29825008\n",
      "  -0.11595756 -0.3540829   0.0956834  -0.02775306  0.6940205  -0.09227671\n",
      "   0.15689558  0.3107318 ]\n",
      " [-0.14058846  0.23826517  0.4127439   0.19500181 -0.54425263 -0.15525483\n",
      "   0.84162056  0.20974219  0.2968884   0.11382529  0.6100584  -0.25685233\n",
      "   0.07832514 -0.01934533  0.07156423 -0.28291535  0.11772206  0.23008548\n",
      "   0.15107712 -0.23805672  0.22175711  0.35320473  0.21646932 -0.02474125\n",
      "  -0.64201725 -0.68680966  0.24974689 -0.63317734 -0.16911486 -0.03929098\n",
      "   0.06944899 -0.09594528  0.16301566 -0.04465562  0.45098537  0.36420777\n",
      "  -0.6375388  -0.43353707 -0.3948411  -0.18812144  0.23431575 -0.64158183\n",
      "  -0.4553715   0.1781156   0.4562718   0.18832177 -0.6224793   0.02623004\n",
      "   0.39224476 -0.3800481  -0.32013673 -0.67853314 -0.7339156   0.10565864\n",
      "  -0.2723072   0.03302608  0.16401818  0.05853877 -0.171272    0.13102807\n",
      "  -0.06568918 -0.29371762 -0.4153469   0.05311535  0.27453938  0.22733\n",
      "  -0.43423185 -0.37444228 -0.52201605 -0.30708253  0.06435482 -0.37939543\n",
      "  -0.15320379 -0.37644583 -0.236962    0.16498892  0.5387253  -0.06139998\n",
      "  -0.03246497  0.40693432]\n",
      " [-0.38409922 -0.004697    0.58277255  0.24188545 -0.6425295  -0.42941582\n",
      "   0.67375255  0.31350568  0.18691196  0.09768981  0.66901845 -0.22972612\n",
      "  -0.02055287 -0.14715958 -0.09295499 -0.3130335   0.41881293  0.16286069\n",
      "   0.13241065 -0.17423679  0.29178265  0.09876722  0.08583787 -0.22403066\n",
      "  -0.5131343  -0.82588613 -0.00594755 -0.55970716  0.08923867 -0.12048426\n",
      "   0.18582928 -0.02558712  0.22572067 -0.14915182  0.2187574   0.14786753\n",
      "  -0.90193653 -0.672527   -0.40635708 -0.21237361  0.27459815 -0.8074391\n",
      "  -0.4821201   0.33698896  0.3102039   0.25924924 -0.6235506   0.02962914\n",
      "   0.30740672 -0.5591577  -0.36960775 -0.7686396  -0.74931467  0.0110318\n",
      "  -0.44392216 -0.06525464  0.14976874 -0.10781754 -0.07885293  0.0692796\n",
      "   0.08834253 -0.19232765 -0.3341323   0.30773517  0.39073426  0.24717246\n",
      "  -0.44531775 -0.588522   -0.52061874 -0.3192011  -0.11093359 -0.3532616\n",
      "  -0.1826921  -0.4477309   0.00226457  0.0245986   0.6088537  -0.05893867\n",
      "   0.11143074  0.3098105 ]\n",
      " [-0.38798597  0.02564994  0.70919335  0.3107669  -0.64018774 -0.35538852\n",
      "   0.81950307  0.351758    0.15267478  0.15144825  0.6248974  -0.20705463\n",
      "  -0.13038418 -0.12163936 -0.18213516 -0.22855236  0.47673312  0.15177521\n",
      "   0.16598615 -0.1810947   0.2092826   0.13992967  0.0368157  -0.20822707\n",
      "  -0.43088934 -0.8171991   0.03076288 -0.526747    0.08558294 -0.05896622\n",
      "   0.12876192  0.01931494  0.23176596 -0.1503905   0.13668069  0.15954047\n",
      "  -0.8859391  -0.65505886 -0.36574996 -0.28518808  0.15749025 -0.8957467\n",
      "  -0.5370771   0.38740554  0.27868187  0.21466313 -0.5707701   0.07482547\n",
      "   0.19229662 -0.5541581  -0.3502269  -0.7750922  -0.6384995   0.06070729\n",
      "  -0.42537722 -0.04019539  0.1820682  -0.11595744 -0.08057731  0.14717275\n",
      "   0.08096617 -0.3076155  -0.36974913  0.24414062  0.40692234  0.25526085\n",
      "  -0.41867867 -0.5922078  -0.5282996  -0.23421796 -0.08815761 -0.29837847\n",
      "  -0.18156725 -0.4123945   0.04872598 -0.03481311  0.6863576  -0.02754398\n",
      "   0.11813536  0.40124524]\n",
      " [-0.39036712  0.06007484  0.5593312   0.14688641 -0.65263295 -0.5411977\n",
      "   0.574366    0.33015102  0.23486602  0.10670174  0.705386   -0.2827139\n",
      "  -0.14769349 -0.17232913 -0.18993175 -0.23990661  0.48176402  0.25498143\n",
      "   0.07097304 -0.20252785  0.24250326  0.1407946   0.03571743 -0.27031928\n",
      "  -0.42440116 -0.8312377   0.04608586 -0.51835096  0.08336017 -0.14258836\n",
      "   0.18789697 -0.01398838  0.33817756 -0.1585604   0.1748988   0.11731219\n",
      "  -0.8729059  -0.7946071  -0.49163073 -0.2533232   0.2598589  -0.8009248\n",
      "  -0.40212643  0.2424975   0.4407405   0.27786413 -0.56877196  0.02178364\n",
      "   0.38123363 -0.58741474 -0.3769996  -0.83332485 -0.7202083   0.04414653\n",
      "  -0.56447023 -0.15092774  0.16008726 -0.09686132 -0.16890508  0.14063814\n",
      "   0.15907492 -0.05977619 -0.2735783   0.48755747  0.42782903  0.32084304\n",
      "  -0.3346724  -0.69555414 -0.4955463  -0.39330307 -0.04483746 -0.3498962\n",
      "  -0.17460518 -0.4284771   0.12309912  0.07437356  0.58438885 -0.07966954\n",
      "   0.08845697  0.3316505 ]\n",
      " [-0.34625912 -0.00187039  0.6294455   0.2703109  -0.72825783 -0.5318523\n",
      "   0.6931524   0.37428588  0.09938715  0.15029472  0.7294992  -0.17661893\n",
      "  -0.07401168 -0.15970539 -0.21837822 -0.23749559  0.58829075  0.14299135\n",
      "   0.15201268 -0.13651377  0.24405618  0.10997394  0.11735991 -0.25248867\n",
      "  -0.4260165  -0.8894429  -0.06623514 -0.5328641   0.15283114 -0.20286684\n",
      "   0.18859847 -0.06336296  0.35970354 -0.18619247  0.17991412  0.03965234\n",
      "  -0.9473837  -0.8268545  -0.41604224 -0.26832885  0.3298421  -0.9340339\n",
      "  -0.4711648   0.35040054  0.30968726  0.27596062 -0.60482895 -0.00544953\n",
      "   0.32344806 -0.67296803 -0.3543448  -0.893318   -0.7563499   0.05324412\n",
      "  -0.58412564 -0.1430814   0.20461296 -0.12391528 -0.14118336  0.14626329\n",
      "   0.16937464 -0.08462614 -0.22198059  0.46619168  0.40201902  0.30085105\n",
      "  -0.37075612 -0.738641   -0.45401376 -0.23151076 -0.16072088 -0.29261547\n",
      "  -0.13784808 -0.42444912  0.1387258   0.011978    0.7280121  -0.05270352\n",
      "   0.18015122  0.2566182 ]]\n",
      "predictions: [76  6  6  6 10 10]\n",
      "translatedPredictions: ['Travel: Central & South America' 'Cozy Mysteries' 'Cozy Mysteries'\n",
      " 'Cozy Mysteries' 'U.S. History' 'U.S. History']\n"
     ]
    }
   ],
   "source": [
    "print(f\"{model1.num_labels}\")\n",
    "\n",
    "import pandas as pd\n",
    "import numpy as np\n",
    "\n",
    "body = np.array([\"This wordless collection of strips by renowned artist/designer Rian Hughes reveals the lighter side of our obsession with social rankings.When everyone has a number, everyone knows their place. Lower numbers are better, higher numbers are less important, and that’s just the way it is. But what if that number could change? You might try to buck the system and assert your individuality… or you might end up with a big fat zero.Big questions are explored and unexpected answers found in the first solo comics collection from award-winning designer &amp; illustrator Rian Hughes. His whimsical, witty, and insightful strips will make you both smile and consider. Where do you stand in the pecking order? Is your number up? 2018 Pubwest Design Awards – Gold Winner for Graphic Album, New Material\",\n",
    "    \"There’s hot, and then there’s Delilah Devlin. She’s in a class  by herself.\",\n",
    "    \"A little girl proudly shows off her reading skills as she spends a day out on the town with her mom. Children are sure to be delighted as they read along with the narrator in ths fun, rhyming, easy-to-read story.\",\n",
    "    \"The Screech Owls have come to Salt Lake City for the Peewee Winter Games – with the championship game to be played on the same ice surface where the Canadian men and women won Olympic hockey gold! Nish has plans to run his own competition: the Gross-Out Olympics, featuring everything from taping players to dressing room walls with duct tape to the “Snot Shot” – seeing how far they can fire a jellybean using only their noses. He also has a team contest to see who can figure out the Great Nish Secret and guess what the nuttiest Screech Owl of all has buried at centre ice for good luck. But that secret pales once the Owls find out something strange – something terrifying – is going on in the tunnels deep beneath the magnificent hills surrounding the Olympic site.\",\n",
    "    \"Illus. in full color. Wild and domestic animals that preschoolers will want to see.From the Trade Paperback edition.\",            \n",
    "    \"With his unique knack for making cutting-edge theoretical science effortlessly accessible, world-renowned physicist Paul Davies now tackles an issue that has boggled minds for centuries: Is time travel possible? The answer, insists Davies, is definitely yes—once you iron out a few kinks in the space-time continuum. With tongue placed firmly in cheek, Davies explains the theoretical physics that make visiting the future and revisiting the past possible, then proceeds to lay out a four-stage process for assembling a time machine and making it work. Wildly inventive and theoretically sound, How to Build a Time Machine is creative science at its best—illuminating, entertaining, and thought provoking.\",\n",
    "])\n",
    "datapoints = pd.DataFrame()\n",
    "datapoints[\"body\"] = body\n",
    "\n",
    "predictions = model1.inference(datapoints, batch_size=16)\n",
    "translatedPredictions = model1.translatePredictions(predictions)\n",
    "\n",
    "print(f\"predictions: {predictions}\")\n",
    "print(f\"translatedPredictions: {translatedPredictions}\")"
   ]
  },
  {
   "attachments": {},
   "cell_type": "markdown",
   "metadata": {},
   "source": [
    "### Repository in Action"
   ]
  },
  {
   "cell_type": "code",
   "execution_count": 3,
   "metadata": {},
   "outputs": [
    {
     "data": {
      "text/plain": [
       "[80, 122, 109, 68, 45, 34, 19, 10, 2, 1, 1]"
      ]
     },
     "execution_count": 3,
     "metadata": {},
     "output_type": "execute_result"
    }
   ],
   "source": [
    "data.num_labels"
   ]
  },
  {
   "cell_type": "code",
   "execution_count": 3,
   "metadata": {},
   "outputs": [
    {
     "name": "stdout",
     "output_type": "stream",
     "text": [
      "No GPU available, using the CPU instead.\n"
     ]
    },
    {
     "name": "stderr",
     "output_type": "stream",
     "text": [
      "Some weights of the model checkpoint at bert-base-uncased were not used when initializing BertForSequenceClassification: ['cls.seq_relationship.bias', 'cls.seq_relationship.weight', 'cls.predictions.transform.dense.bias', 'cls.predictions.transform.LayerNorm.bias', 'cls.predictions.decoder.weight', 'cls.predictions.transform.dense.weight', 'cls.predictions.transform.LayerNorm.weight', 'cls.predictions.bias']\n",
      "- This IS expected if you are initializing BertForSequenceClassification from the checkpoint of a model trained on another task or with another architecture (e.g. initializing a BertForSequenceClassification model from a BertForPreTraining model).\n",
      "- This IS NOT expected if you are initializing BertForSequenceClassification from the checkpoint of a model that you expect to be exactly identical (initializing a BertForSequenceClassification model from a BertForSequenceClassification model).\n",
      "Some weights of BertForSequenceClassification were not initialized from the model checkpoint at bert-base-uncased and are newly initialized: ['classifier.weight', 'classifier.bias']\n",
      "You should probably TRAIN this model on a down-stream task to be able to use it for predictions and inference.\n"
     ]
    },
    {
     "name": "stdout",
     "output_type": "stream",
     "text": [
      "80\n"
     ]
    }
   ],
   "source": [
    "from HierarchicalBERT.BERTSentenceClassification import loadBSCmodel\n",
    "from BlurbDataset.BlurbDataset import BlurbDataset\n",
    "\n",
    "hierarchyLevel = 0 \n",
    "\n",
    "data = BlurbDataset(earlyStop=20, batch_size=16,\n",
    "                          tokenizedDataPath=\"BlurbDataset\")\n",
    "model = loadBSCmodel(\n",
    "    f\"BERTonBLURBHierarchyLevel{hierarchyLevel}.pt\", \n",
    "    num_labels = data.num_labels,\n",
    "    listLabelDict=data.listLabelDict,\n",
    "    hierarchyLevel=hierarchyLevel\n",
    ")"
   ]
  },
  {
   "cell_type": "code",
   "execution_count": 4,
   "metadata": {},
   "outputs": [
    {
     "data": {
      "text/plain": [
       "80"
      ]
     },
     "execution_count": 4,
     "metadata": {},
     "output_type": "execute_result"
    }
   ],
   "source": [
    "model.num_labels"
   ]
  },
  {
   "cell_type": "code",
   "execution_count": 6,
   "metadata": {},
   "outputs": [
    {
     "data": {
      "text/plain": [
       "122"
      ]
     },
     "execution_count": 6,
     "metadata": {},
     "output_type": "execute_result"
    }
   ],
   "source": [
    "model.model.num_labels"
   ]
  },
  {
   "cell_type": "code",
   "execution_count": 22,
   "metadata": {},
   "outputs": [
    {
     "name": "stderr",
     "output_type": "stream",
     "text": [
      "Tokenization:   0%|          | 0/6 [00:00<?, ?it/s]c:\\Users\\luc.stebens\\Anaconda3\\envs\\BERTTextClassification\\lib\\site-packages\\transformers\\tokenization_utils_base.py:2364: FutureWarning: The `pad_to_max_length` argument is deprecated and will be removed in a future version, use `padding=True` or `padding='longest'` to pad to the longest sequence in the batch, or use `padding='max_length'` to pad to a max length. In this case, you can give a specific length with `max_length` (e.g. `max_length=45`) or leave max_length to None to pad to the maximal input size of the model (e.g. 512 for Bert).\n",
      "  warnings.warn(\n",
      "Tokenization: 100%|██████████| 6/6 [00:00<00:00,  6.53it/s]\n"
     ]
    },
    {
     "name": "stdout",
     "output_type": "stream",
     "text": [
      "[[ 0.37807125  0.25283247 -0.31736672  0.7352711  -0.53730255  0.21339744\n",
      "  -0.10350738  0.38484433  0.19312859 -0.34132108  0.12590154  0.27495706\n",
      "  -0.30296952 -0.30061874  0.05195042 -0.05847098  0.16094485  0.41501403\n",
      "  -0.20739505 -0.06255549 -0.42307395 -0.6746918  -0.54142404  0.12253863\n",
      "  -0.18547836 -0.19425286  0.23586583  0.6234082   0.09831981 -0.11390385\n",
      "   0.32362354  0.3338747   0.08734061 -0.0950475  -0.10994737  0.02449188\n",
      "   0.20407617 -0.21475616  0.11564394  0.03779422  0.28207052 -0.23779136\n",
      "  -0.08582821 -0.4682169  -0.08509855 -0.24818368  0.16808303 -0.07983072\n",
      "   0.32888848 -0.22858624  0.24297023  0.55142736  0.09568608  0.46457928\n",
      "   0.16842005  0.06575678 -0.20254448  0.01116027  0.13565129  0.3164239\n",
      "   0.07975817 -0.2945763   0.19667242 -0.18719773  0.05748653  0.21785654\n",
      "  -0.34548765 -0.3292947  -0.71230674 -0.31743833 -0.40765935  0.15825473\n",
      "  -0.04685668 -0.10344033  0.44210145  0.44645688 -0.2575978   0.06764287\n",
      "   0.5603034   0.38677764]\n",
      " [ 0.2686199  -0.14616294 -0.36669022  0.46699175 -0.49510765  0.39268234\n",
      "  -0.04321051  0.16767116  0.0852095  -0.17192984  0.04491337  0.07225639\n",
      "  -0.55020064 -0.5115856   0.26759946  0.06208435  0.06570219  0.47995758\n",
      "  -0.0047442  -0.19748376 -0.22431724 -0.64246213  0.07875273 -0.05164409\n",
      "   0.09886563 -0.09490913  0.13758114  0.38657486  0.0710737   0.14010574\n",
      "   0.09480365 -0.0815557  -0.0692495  -0.29437244  0.01627743  0.21444595\n",
      "   0.06633776  0.05584875  0.29444382 -0.25154188  0.38450027  0.14089656\n",
      "  -0.25241548 -0.4660812  -0.03727368 -0.34252217  0.12661979 -0.1366083\n",
      "   0.48266098 -0.3494398   0.44036472  0.26712966 -0.01066651  0.3531947\n",
      "   0.45303437  0.1653722  -0.08796431 -0.01803785  0.18459728  0.45656556\n",
      "   0.18832332 -0.5343081  -0.16214563 -0.12995885 -0.03384095 -0.23543084\n",
      "  -0.41942158 -0.21049169 -0.32315335 -0.34703454 -0.38757864 -0.06700805\n",
      "   0.14033915 -0.02765866  0.5442641   0.78857887 -0.23324963  0.26071137\n",
      "   0.46781665  0.00795679]\n",
      " [ 0.38561434  0.24024755 -0.3036717   0.76429635 -0.47584093  0.25889724\n",
      "  -0.29226607  0.32671884  0.2055541  -0.29242563  0.08509458  0.2219811\n",
      "  -0.3790381  -0.21114983  0.09227261  0.06669002  0.15708005  0.47321865\n",
      "  -0.2561712  -0.19254653 -0.36777708 -0.65255576 -0.596229    0.0397266\n",
      "  -0.08327861 -0.12022356  0.2831568   0.536158    0.14401142 -0.16362274\n",
      "   0.3034931   0.3563197   0.24574825 -0.13012782  0.05161467  0.06465521\n",
      "   0.20812581 -0.11874921  0.20597847 -0.03579994  0.36794835 -0.2532397\n",
      "  -0.13796744 -0.5512409   0.02973792 -0.21685825  0.15395664 -0.05811107\n",
      "   0.45906767 -0.29502708  0.23802     0.5712107  -0.1483998   0.6899812\n",
      "   0.44559467  0.05255346 -0.12315357  0.11585807  0.3053995   0.44177622\n",
      "   0.02862056 -0.19249743  0.12700921 -0.26158983 -0.00365934  0.4402659\n",
      "  -0.35269058 -0.35600019 -0.70921135 -0.3916809  -0.39042094  0.28165358\n",
      "   0.08193678 -0.02415811  0.45775113  0.5061743  -0.3414245   0.00839256\n",
      "   0.5832542   0.41419414]\n",
      " [ 0.38232368  0.28563643 -0.22589263  0.7018955  -0.5704644   0.26556942\n",
      "  -0.13068868  0.3708774   0.05745105 -0.42571783  0.2668395   0.29437044\n",
      "  -0.3730218  -0.28061002  0.13493402  0.00512     0.11863407  0.359398\n",
      "  -0.09531984  0.05097684 -0.36411583 -0.755919   -0.539667    0.12256806\n",
      "  -0.14943561 -0.19509415  0.19474244  0.61938167  0.303068   -0.18436061\n",
      "   0.3342468   0.18141752  0.02782725 -0.20354357 -0.11424085 -0.06205791\n",
      "   0.14523628 -0.12014643  0.20275216 -0.08969421  0.17695653 -0.24300563\n",
      "  -0.10559718 -0.5751751  -0.08402891 -0.1731498   0.2019439  -0.05720657\n",
      "   0.35152087 -0.18653595  0.22954245  0.49721003  0.19010645  0.29991412\n",
      "   0.11739382  0.11904708 -0.2318328  -0.00406349  0.18331923  0.3320146\n",
      "   0.13007751 -0.428836    0.08645376 -0.14273065  0.05723351  0.11581309\n",
      "  -0.25232118 -0.18851422 -0.7634653  -0.28557515 -0.454618    0.0495761\n",
      "   0.06124871  0.00941315  0.5680691   0.524863   -0.15741742  0.02149218\n",
      "   0.4060682   0.23835966]\n",
      " [ 0.49065778  0.21231195 -0.39301753  0.68102837 -0.45420688  0.2943533\n",
      "  -0.29470098  0.36820114  0.1875521  -0.34395775  0.11580506  0.36631927\n",
      "  -0.32084754 -0.16053757  0.12211862  0.05437243  0.22927085  0.2577223\n",
      "  -0.42447546 -0.17944069 -0.42289108 -0.6813986  -0.59508705  0.2547657\n",
      "  -0.2386061  -0.10256575  0.2925499   0.6732776   0.22323194 -0.15218726\n",
      "   0.31977433  0.44468242  0.26159427 -0.07919112  0.0891632   0.15419722\n",
      "   0.2968244  -0.15069675  0.4351148   0.13818371  0.42323172 -0.16008106\n",
      "  -0.3761087  -0.36732218 -0.08052437 -0.26464304  0.13827953 -0.20764974\n",
      "   0.55700046 -0.25762025  0.2771451   0.63885087 -0.27024043  0.784413\n",
      "   0.3346152   0.06124004 -0.06129637  0.23172855  0.29540324  0.46180755\n",
      "  -0.05334422 -0.00618222  0.1868327  -0.12758161 -0.00158113  0.68167025\n",
      "  -0.58853394 -0.51343656 -1.0021981  -0.57923967 -0.4875754   0.19222583\n",
      "  -0.14372377 -0.0386028   0.5227843   0.29774562 -0.3121026   0.13922375\n",
      "   0.512705    0.5100487 ]\n",
      " [ 0.34395054  0.40634865 -0.29627776  0.7740167  -0.52578735  0.3760488\n",
      "  -0.16559805  0.4516602   0.10995624 -0.47051477  0.18250075  0.31963834\n",
      "  -0.20819145 -0.27285638  0.08747081 -0.05968294  0.09664609  0.27053332\n",
      "  -0.31903568  0.01264912 -0.49039912 -0.7591529  -0.7174517   0.22106132\n",
      "  -0.23962398 -0.11886959  0.37354493  0.7215692   0.30143034 -0.27073932\n",
      "   0.33382556  0.40066236  0.13708916 -0.1289106  -0.04820475 -0.03538194\n",
      "   0.27971104 -0.21058266  0.2764803   0.0112485   0.17750177 -0.2548599\n",
      "  -0.30960375 -0.48101228 -0.11481367 -0.12296556  0.07599838 -0.0869939\n",
      "   0.43413812 -0.19432482  0.24856623  0.66891646  0.05278984  0.48949203\n",
      "   0.1505947   0.06596067 -0.23469675  0.11709375  0.2950166   0.31888998\n",
      "  -0.01550773 -0.23721477  0.29085383 -0.15057838  0.05126323  0.34173825\n",
      "  -0.37156683 -0.35078263 -1.1914604  -0.36322606 -0.48491493  0.17857276\n",
      "  -0.16260791  0.02706751  0.55845076  0.47181097 -0.05791226  0.21644631\n",
      "   0.51763636  0.44929653]]\n",
      "predictions: [ 3 75  3  3 53  3]\n",
      "translatedPredictions: ['Teen & Young Adult' 'Travel: Australia & Oceania' 'Teen & Young Adult'\n",
      " 'Teen & Young Adult' 'New Adult Romance' 'Teen & Young Adult']\n"
     ]
    }
   ],
   "source": [
    "import pandas as pd\n",
    "import numpy as np\n",
    "\n",
    "body = np.array([\"This wordless collection of strips by renowned artist/designer Rian Hughes reveals the lighter side of our obsession with social rankings.When everyone has a number, everyone knows their place. Lower numbers are better, higher numbers are less important, and that’s just the way it is. But what if that number could change? You might try to buck the system and assert your individuality… or you might end up with a big fat zero.Big questions are explored and unexpected answers found in the first solo comics collection from award-winning designer &amp; illustrator Rian Hughes. His whimsical, witty, and insightful strips will make you both smile and consider. Where do you stand in the pecking order? Is your number up? 2018 Pubwest Design Awards – Gold Winner for Graphic Album, New Material\",\n",
    "    \"There’s hot, and then there’s Delilah Devlin. She’s in a class  by herself.\",\n",
    "    \"A little girl proudly shows off her reading skills as she spends a day out on the town with her mom. Children are sure to be delighted as they read along with the narrator in ths fun, rhyming, easy-to-read story.\",\n",
    "    \"The Screech Owls have come to Salt Lake City for the Peewee Winter Games – with the championship game to be played on the same ice surface where the Canadian men and women won Olympic hockey gold! Nish has plans to run his own competition: the Gross-Out Olympics, featuring everything from taping players to dressing room walls with duct tape to the “Snot Shot” – seeing how far they can fire a jellybean using only their noses. He also has a team contest to see who can figure out the Great Nish Secret and guess what the nuttiest Screech Owl of all has buried at centre ice for good luck. But that secret pales once the Owls find out something strange – something terrifying – is going on in the tunnels deep beneath the magnificent hills surrounding the Olympic site.\",\n",
    "    \"Illus. in full color. Wild and domestic animals that preschoolers will want to see.From the Trade Paperback edition.\",            \n",
    "    \"With his unique knack for making cutting-edge theoretical science effortlessly accessible, world-renowned physicist Paul Davies now tackles an issue that has boggled minds for centuries: Is time travel possible? The answer, insists Davies, is definitely yes—once you iron out a few kinks in the space-time continuum. With tongue placed firmly in cheek, Davies explains the theoretical physics that make visiting the future and revisiting the past possible, then proceeds to lay out a four-stage process for assembling a time machine and making it work. Wildly inventive and theoretically sound, How to Build a Time Machine is creative science at its best—illuminating, entertaining, and thought provoking.\",\n",
    "])\n",
    "datapoints = pd.DataFrame()\n",
    "datapoints[\"body\"] = body\n",
    "\n",
    "predictions = model.inference(datapoints, batch_size=16)\n",
    "translatedPredictions = model.translatePredictions(predictions)\n",
    "\n",
    "print(f\"predictions: {predictions}\")\n",
    "print(f\"translatedPredictions: {translatedPredictions}\")"
   ]
  },
  {
   "cell_type": "code",
   "execution_count": 23,
   "metadata": {},
   "outputs": [
    {
     "name": "stderr",
     "output_type": "stream",
     "text": [
      "Tokenization:   0%|          | 0/6 [00:00<?, ?it/s]c:\\Users\\luc.stebens\\Anaconda3\\envs\\BERTTextClassification\\lib\\site-packages\\transformers\\tokenization_utils_base.py:2364: FutureWarning: The `pad_to_max_length` argument is deprecated and will be removed in a future version, use `padding=True` or `padding='longest'` to pad to the longest sequence in the batch, or use `padding='max_length'` to pad to a max length. In this case, you can give a specific length with `max_length` (e.g. `max_length=45`) or leave max_length to None to pad to the maximal input size of the model (e.g. 512 for Bert).\n",
      "  warnings.warn(\n",
      "Tokenization: 100%|██████████| 6/6 [00:00<00:00,  6.55it/s]\n"
     ]
    },
    {
     "name": "stdout",
     "output_type": "stream",
     "text": [
      "[[ 0.01930444 -0.01977405 -0.04699296 -0.06746225 -0.11384522 -0.20708346\n",
      "  -0.09043156 -0.23449738  0.1836006   0.68727237  0.5843393 ]\n",
      " [ 0.18506268  0.11881091  0.08708183  0.16918835 -0.24148497 -0.17198133\n",
      "  -0.1761727  -0.20034899  0.28422558  0.5798515   0.57429403]\n",
      " [ 0.09212276  0.0359113  -0.05348908  0.03614424 -0.1359228  -0.14843228\n",
      "  -0.109568   -0.2002545   0.22960085  0.69252837  0.6429902 ]\n",
      " [ 0.00398067 -0.02537885 -0.01953503  0.01560123 -0.08067893 -0.23796493\n",
      "  -0.13083985 -0.2020143   0.08343008  0.72332877  0.66916794]\n",
      " [ 0.11997294  0.04849662 -0.06645413 -0.08903764  0.03563287 -0.16460341\n",
      "  -0.09303817 -0.27455327  0.18189725  0.7047241   0.7239775 ]\n",
      " [ 0.03795041  0.02273951 -0.08966117  0.03516039 -0.02574408 -0.17068802\n",
      "  -0.10287824 -0.1952268   0.24558523  0.68173003  0.7122874 ]]\n",
      "predictions: [ 9  9  9  9 10 10]\n",
      "translatedPredictions: ['Religion' 'Religion' 'Religion' 'Religion' 'U.S. History' 'U.S. History']\n"
     ]
    }
   ],
   "source": [
    "import pandas as pd\n",
    "import numpy as np\n",
    "\n",
    "body = np.array([\"This wordless collection of strips by renowned artist/designer Rian Hughes reveals the lighter side of our obsession with social rankings.When everyone has a number, everyone knows their place. Lower numbers are better, higher numbers are less important, and that’s just the way it is. But what if that number could change? You might try to buck the system and assert your individuality… or you might end up with a big fat zero.Big questions are explored and unexpected answers found in the first solo comics collection from award-winning designer &amp; illustrator Rian Hughes. His whimsical, witty, and insightful strips will make you both smile and consider. Where do you stand in the pecking order? Is your number up? 2018 Pubwest Design Awards – Gold Winner for Graphic Album, New Material\",\n",
    "    \"There’s hot, and then there’s Delilah Devlin. She’s in a class  by herself.\",\n",
    "    \"A little girl proudly shows off her reading skills as she spends a day out on the town with her mom. Children are sure to be delighted as they read along with the narrator in ths fun, rhyming, easy-to-read story.\",\n",
    "    \"The Screech Owls have come to Salt Lake City for the Peewee Winter Games – with the championship game to be played on the same ice surface where the Canadian men and women won Olympic hockey gold! Nish has plans to run his own competition: the Gross-Out Olympics, featuring everything from taping players to dressing room walls with duct tape to the “Snot Shot” – seeing how far they can fire a jellybean using only their noses. He also has a team contest to see who can figure out the Great Nish Secret and guess what the nuttiest Screech Owl of all has buried at centre ice for good luck. But that secret pales once the Owls find out something strange – something terrifying – is going on in the tunnels deep beneath the magnificent hills surrounding the Olympic site.\",\n",
    "    \"Illus. in full color. Wild and domestic animals that preschoolers will want to see.From the Trade Paperback edition.\",            \n",
    "    \"With his unique knack for making cutting-edge theoretical science effortlessly accessible, world-renowned physicist Paul Davies now tackles an issue that has boggled minds for centuries: Is time travel possible? The answer, insists Davies, is definitely yes—once you iron out a few kinks in the space-time continuum. With tongue placed firmly in cheek, Davies explains the theoretical physics that make visiting the future and revisiting the past possible, then proceeds to lay out a four-stage process for assembling a time machine and making it work. Wildly inventive and theoretically sound, How to Build a Time Machine is creative science at its best—illuminating, entertaining, and thought provoking.\",\n",
    "])\n",
    "datapoints = pd.DataFrame()\n",
    "datapoints[\"body\"] = body\n",
    "\n",
    "predictions = model1.inference(datapoints, batch_size=16)\n",
    "translatedPredictions = model1.translatePredictions(predictions)\n",
    "\n",
    "print(f\"predictions: {predictions}\")\n",
    "print(f\"translatedPredictions: {translatedPredictions}\")"
   ]
  },
  {
   "cell_type": "code",
   "execution_count": null,
   "metadata": {},
   "outputs": [],
   "source": []
  },
  {
   "attachments": {},
   "cell_type": "markdown",
   "metadata": {},
   "source": []
  },
  {
   "attachments": {},
   "cell_type": "markdown",
   "metadata": {},
   "source": []
  },
  {
   "attachments": {},
   "cell_type": "markdown",
   "metadata": {},
   "source": [
    "# TODO"
   ]
  },
  {
   "attachments": {},
   "cell_type": "markdown",
   "metadata": {},
   "source": [
    "1) Check that the model saving and loading wokrs i.e. the loaded model is the same one as the safed one. -> Forgot to remove a line from BSC constructor. Seems to work now!\n",
    "2) Check trainBERT.py file\n",
    "3) Check tokenized saved files\n",
    "4) Actually train and see if current architecture is working fine."
   ]
  }
 ],
 "metadata": {
  "kernelspec": {
   "display_name": "BERTTextClassification",
   "language": "python",
   "name": "python3"
  },
  "language_info": {
   "codemirror_mode": {
    "name": "ipython",
    "version": 3
   },
   "file_extension": ".py",
   "mimetype": "text/x-python",
   "name": "python",
   "nbconvert_exporter": "python",
   "pygments_lexer": "ipython3",
   "version": "3.9.16"
  },
  "orig_nbformat": 4
 },
 "nbformat": 4,
 "nbformat_minor": 2
}
