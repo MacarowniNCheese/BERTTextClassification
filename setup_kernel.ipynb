{
 "cells": [
  {
   "cell_type": "markdown",
   "id": "2a2b398f-11d6-4c5b-971a-5833fe6c87c1",
   "metadata": {},
   "source": [
    "# Setup Notebook Kernel"
   ]
  },
  {
   "cell_type": "markdown",
   "id": "ac05c3cf-f65a-4095-a8ec-bc5f4640e742",
   "metadata": {},
   "source": [
    "To run notebooks containing parts of code form a downloaded repository, one needs to setup an ipykernl that has all the necessary dependencies installed. Here is an exmaple for this particular repository: "
   ]
  },
  {
   "cell_type": "code",
   "execution_count": null,
   "id": "b17afa9d-12cc-434f-9fb2-a4669776c112",
   "metadata": {},
   "outputs": [],
   "source": [
    "conda create -n bert_text_calssification python=3.9\n",
    "conda activate bert_text_calssification\n",
    "cd ~/work/BERTTextClassification\n",
    "pip install -r requirements.txt\n",
    "pip install boto3\n",
    "conda install ipykernel\n",
    "ipython kernel install --user --name=bert_text_calssification"
   ]
  },
  {
   "cell_type": "markdown",
   "id": "015ceb2f-1590-4f5f-b8b4-0adc3b5770cd",
   "metadata": {},
   "source": [
    "Here I am also installing boto3, which is a python package used to upload data files to the minIO"
   ]
  },
  {
   "cell_type": "markdown",
   "id": "4562e8cc-49e3-4df7-9806-f8ef908f2efd",
   "metadata": {},
   "source": [
    "### Installing CUDA"
   ]
  },
  {
   "cell_type": "code",
   "execution_count": null,
   "id": "f241e7e8-a98d-44e0-a526-4cfb43ebb30d",
   "metadata": {},
   "outputs": [],
   "source": [
    "conda install cuda -c nvidia"
   ]
  },
  {
   "cell_type": "markdown",
   "id": "a08c45d6-e2a1-4591-9027-185b5708a0a3",
   "metadata": {},
   "source": [
    "or for a specific version (this is the one that I installed)"
   ]
  },
  {
   "cell_type": "code",
   "execution_count": null,
   "id": "8f47bbe2-a3c0-44d1-8724-3a89027f3f5b",
   "metadata": {},
   "outputs": [],
   "source": [
    "conda install cuda -c nvidia/label/cuda-11.8.0"
   ]
  },
  {
   "cell_type": "markdown",
   "id": "43bd447e-ee3b-4bb1-af13-9a1243998eb9",
   "metadata": {},
   "source": [
    "Remove cuda"
   ]
  },
  {
   "cell_type": "code",
   "execution_count": null,
   "id": "27529e22-f140-44bf-b66b-e923f83ff30b",
   "metadata": {},
   "outputs": [],
   "source": [
    "conda remove cuda"
   ]
  },
  {
   "cell_type": "markdown",
   "id": "6be52a2e-4ad3-4784-9566-680001d0f63c",
   "metadata": {},
   "source": [
    "Checking installation"
   ]
  },
  {
   "cell_type": "code",
   "execution_count": null,
   "id": "354951fc-a505-4a55-bf0e-8067f5ed784b",
   "metadata": {
    "tags": []
   },
   "outputs": [],
   "source": [
    "nvcc -V"
   ]
  },
  {
   "cell_type": "markdown",
   "id": "442a03e1-2ce7-4b62-9d1a-e2c3534de8a4",
   "metadata": {},
   "source": [
    "Check within python whether or not the installation was successful:"
   ]
  },
  {
   "cell_type": "code",
   "execution_count": null,
   "id": "b77f1411-a2ec-406f-89ef-20dacff27684",
   "metadata": {},
   "outputs": [],
   "source": [
    "import torch                                                                                                                                                                                             \n",
    "torch.cuda.is_available()"
   ]
  }
 ],
 "metadata": {
  "kernelspec": {
   "display_name": "Python 3 (ipykernel)",
   "language": "python",
   "name": "python3"
  },
  "language_info": {
   "codemirror_mode": {
    "name": "ipython",
    "version": 3
   },
   "file_extension": ".py",
   "mimetype": "text/x-python",
   "name": "python",
   "nbconvert_exporter": "python",
   "pygments_lexer": "ipython3",
   "version": "3.10.10"
  }
 },
 "nbformat": 4,
 "nbformat_minor": 5
}
