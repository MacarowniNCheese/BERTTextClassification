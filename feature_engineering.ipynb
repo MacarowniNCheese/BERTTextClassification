{
 "cells": [
  {
   "cell_type": "markdown",
   "id": "a00f0886-08dd-4bbf-9c55-7a4a387d89ec",
   "metadata": {},
   "source": [
    "# Feature engineering"
   ]
  },
  {
   "cell_type": "markdown",
   "id": "34586eba-a7f2-4326-a7c5-f503a1b036b8",
   "metadata": {},
   "source": [
    "One might need to install further packages for the code to work. Here is an example of this (commented out so the cell is not actually run,  as the packages here are already correctly installed)"
   ]
  },
  {
   "cell_type": "markdown",
   "id": "682b24b6-32a8-4347-b878-546075ee48ed",
   "metadata": {},
   "source": [
    "## Load data from minIO"
   ]
  },
  {
   "cell_type": "code",
   "execution_count": 8,
   "id": "ef354a00-4cbd-425f-a47a-c78a6625e5e4",
   "metadata": {
    "tags": []
   },
   "outputs": [
    {
     "name": "stdout",
     "output_type": "stream",
     "text": [
      "Downloading blurb_dataset/preprocessedTrainBLURBDataset.pt at trainBERT-v1.0.0/preprocessed_data/blurb_dataset/preprocessedTrainBLURBDataset.pt\n",
      "Downloading blurb_dataset/preprocessedTestBLURBDataset.pt at trainBERT-v1.0.0/preprocessed_data/blurb_dataset/preprocessedTestBLURBDataset.pt\n",
      "Downloading blurb_dataset/preprocessedValBLURBDataset.pt at trainBERT-v1.0.0/preprocessed_data/blurb_dataset/preprocessedValBLURBDataset.pt\n",
      "Downloading blurb_dataset/listLabelDict.json at trainBERT-v1.0.0/preprocessed_data/blurb_dataset/listLabelDict.json\n"
     ]
    },
    {
     "ename": "ModuleNotFoundError",
     "evalue": "No module named 'torch'",
     "output_type": "error",
     "traceback": [
      "\u001b[0;31m---------------------------------------------------------------------------\u001b[0m",
      "\u001b[0;31mModuleNotFoundError\u001b[0m                       Traceback (most recent call last)",
      "Cell \u001b[0;32mIn[8], line 47\u001b[0m\n\u001b[1;32m     44\u001b[0m     s3\u001b[38;5;241m.\u001b[39mBucket(bucket_name)\u001b[38;5;241m.\u001b[39mdownload_file(minio_path \u001b[38;5;241m+\u001b[39m fileName, fileName)  \n\u001b[1;32m     46\u001b[0m \u001b[38;5;66;03m# Need to open files before working with them\u001b[39;00m\n\u001b[0;32m---> 47\u001b[0m \u001b[38;5;28;01mfrom\u001b[39;00m \u001b[38;5;21;01mblurb_dataset\u001b[39;00m\u001b[38;5;21;01m.\u001b[39;00m\u001b[38;5;21;01mblurb_dataset\u001b[39;00m \u001b[38;5;28;01mimport\u001b[39;00m BlurbDataset\n\u001b[1;32m     48\u001b[0m data \u001b[38;5;241m=\u001b[39m BlurbDataset(tokenizedDataPath\u001b[38;5;241m=\u001b[39m\u001b[38;5;124m\"\u001b[39m\u001b[38;5;124mblurb_dataset\u001b[39m\u001b[38;5;124m\"\u001b[39m)\n",
      "File \u001b[0;32m~/work/BERTTextClassification/blurb_dataset/blurb_dataset.py:1\u001b[0m\n\u001b[0;32m----> 1\u001b[0m \u001b[38;5;28;01mimport\u001b[39;00m \u001b[38;5;21;01mtorch\u001b[39;00m\n\u001b[1;32m      2\u001b[0m \u001b[38;5;28;01mimport\u001b[39;00m \u001b[38;5;21;01mos\u001b[39;00m\n\u001b[1;32m      3\u001b[0m \u001b[38;5;28;01mimport\u001b[39;00m \u001b[38;5;21;01mjson\u001b[39;00m\n",
      "\u001b[0;31mModuleNotFoundError\u001b[0m: No module named 'torch'"
     ]
    }
   ],
   "source": [
    "import boto3\n",
    "import os\n",
    "\n",
    "# Parameter Initialization\n",
    "AWS_ACCESS_KEY_ID = \"KCSHSRMJAUGINEW97PRT\"\n",
    "AWS_SECRET_ACCESS_KEY = \"JHr+Diuzk7gain4oXqz2Pbl4YuKw6mZmac3EwtlV\"\n",
    "earlyStop = 1e50 # need to enter this to specify which version of preprocessed datasets should be accessed\n",
    "s3 = boto3.resource('s3',\n",
    "    endpoint_url='http://10.240.5.123:9099',\n",
    "    aws_access_key_id=AWS_ACCESS_KEY_ID,\n",
    "    aws_secret_access_key=AWS_SECRET_ACCESS_KEY,\n",
    "    aws_session_token=None,\n",
    "    config=boto3.session.Config(signature_version='s3v4'),\n",
    "    verify=False\n",
    ")\n",
    "\n",
    "# Helper function\n",
    "def generateFileNames():\n",
    "    \"\"\" \n",
    "    Generates the file names of the files to be downloaded\n",
    "    \"\"\"\n",
    "    PATH = \"blurb_dataset\" \n",
    "    appendix = \"\"\n",
    "    if earlyStop != 1e50:\n",
    "        appendix = f\"EarlyStop{earlyStop}\"\n",
    "        \n",
    "    pathNames = []\n",
    "    pathNames.append(os.path.join(PATH, f\"preprocessedTrainBLURBDataset{appendix}.pt\"))\n",
    "    pathNames.append(os.path.join(PATH, f\"preprocessedTestBLURBDataset{appendix}.pt\"))\n",
    "    pathNames.append(os.path.join(PATH, f\"preprocessedValBLURBDataset{appendix}.pt\"))\n",
    "    pathNames.append(os.path.join(PATH, \"listLabelDict.json\"))\n",
    "    return pathNames\n",
    "\n",
    "# Set the correct pathing\n",
    "bucket_name = \"idoml\" # define your bucket name\n",
    "fileNames = generateFileNames() # define your model file name. THIS NEEDS TO BE CODED PROPERLY! COULD ALSO BE ADDED TO THE CLASS DIRECTLY\n",
    "minio_path = \"trainBERT-v1.0.0/preprocessed_data/\"\n",
    "\n",
    "# Download and save files locally\n",
    "for fileName in fileNames:\n",
    "    print(f\"Downloading {fileName} at {minio_path + fileName}\")\n",
    "    # the second argument tells the function where to store the data locally\n",
    "    # I chose the same folder structure locally as remotely -> Can use the same variable locally and remotely\n",
    "    s3.Bucket(bucket_name).download_file(minio_path + fileName, fileName)  \n",
    "    \n",
    "# Need to open files before working with them\n",
    "from blurb_dataset.blurb_dataset import BlurbDataset\n",
    "data = BlurbDataset(tokenizedDataPath=\"blurb_dataset\") #default earlyStop and batch_size parameters"
   ]
  },
  {
   "cell_type": "code",
   "execution_count": 9,
   "id": "6bc83a92-3b99-463d-b9b4-878facdfd9a2",
   "metadata": {
    "tags": []
   },
   "outputs": [
    {
     "ename": "ModuleNotFoundError",
     "evalue": "No module named 'torch'",
     "output_type": "error",
     "traceback": [
      "\u001b[0;31m---------------------------------------------------------------------------\u001b[0m",
      "\u001b[0;31mModuleNotFoundError\u001b[0m                       Traceback (most recent call last)",
      "Cell \u001b[0;32mIn[9], line 1\u001b[0m\n\u001b[0;32m----> 1\u001b[0m \u001b[38;5;28;01mimport\u001b[39;00m \u001b[38;5;21;01mtorch\u001b[39;00m\n",
      "\u001b[0;31mModuleNotFoundError\u001b[0m: No module named 'torch'"
     ]
    }
   ],
   "source": [
    "import torch\n"
   ]
  },
  {
   "cell_type": "code",
   "execution_count": null,
   "id": "2d01ca79-c381-42f0-a0b4-d679e60f08ac",
   "metadata": {},
   "outputs": [],
   "source": []
  }
 ],
 "metadata": {
  "kernelspec": {
   "display_name": "bert_text_calssification",
   "language": "python",
   "name": "bert_text_calssification"
  },
  "language_info": {
   "codemirror_mode": {
    "name": "ipython",
    "version": 3
   },
   "file_extension": ".py",
   "mimetype": "text/x-python",
   "name": "python",
   "nbconvert_exporter": "python",
   "pygments_lexer": "ipython3",
   "version": "3.9.17"
  }
 },
 "nbformat": 4,
 "nbformat_minor": 5
}
